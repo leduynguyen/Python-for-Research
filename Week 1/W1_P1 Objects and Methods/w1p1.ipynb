{
 "cells": [
  {
   "cell_type": "markdown",
   "metadata": {},
   "source": [
    "# Week 1\n",
    "## Part 1: Objects and Methods\n",
    "### 1.1 Python Basic\n",
    "Python have 2 different modes:\n",
    "- Interactive Mode: for running one line or a expression at a time.\n",
    "- Standard Mode: for running program from start to finish.\n",
    "\n",
    "Python name is named after the inimitable BBC show [Monty Python's Flying Circus](https://en.wikipedia.org/wiki/Monty_Python's_Flying_Circus)\n",
    "\n",
    "In this course we are using [Anaconda distribution](https://www.continuum.io/) which support around 3000 packages. Anaconda includes 2 usefull development environments which are ***Jupyter*** and ***Sypder***.\n",
    "\n",
    "Python has 2 version which is Python 2 and Python 3. **Python 2** is legacy wheras **Python 3** is the future of the language. Python 3 is not backwards compatible with Python 2. In this course we foucs using Python 3.\n",
    "\n",
    "### 1.2 Object\n",
    "Object whose **value can change are called mutable object**. Whereas object whose value is unchangeable after they've created is called immutable.\n",
    "\n",
    "Each object has 3 characteristics are called **object type** (*number, string, list ...*), **object value** (*data value*) and **object identity** (identity number for object in the computer memory).\n",
    "\n",
    "Object has 2 types of attributes are called data attributes and methods. Methods are functions associated with objects, whereas data attributes are data associated with objects. Finally, an instance is one occurrence of an object.\n",
    "\n",
    "### 1.3 Modules and Methods\n",
    "Import Python module by using the **import** statement\n",
    "* Example: import math module for using pi and using square function"
   ]
  },
  {
   "cell_type": "code",
   "execution_count": 2,
   "metadata": {
    "collapsed": false
   },
   "outputs": [
    {
     "name": "stdout",
     "output_type": "stream",
     "text": [
      "Pi value = 3.141592653589793\n",
      "Square root of 9 is 3.0\n"
     ]
    }
   ],
   "source": [
    "import math\n",
    "\n",
    "print(\"Pi value =\", math.pi)\n",
    "print(\"Square root of 9 is\", math.sqrt(9))"
   ]
  },
  {
   "cell_type": "markdown",
   "metadata": {},
   "source": [
    "Or we can using more convience as example in the below"
   ]
  },
  {
   "cell_type": "code",
   "execution_count": 4,
   "metadata": {
    "collapsed": false
   },
   "outputs": [
    {
     "name": "stdout",
     "output_type": "stream",
     "text": [
      "Pi value = 3.141592653589793\n"
     ]
    }
   ],
   "source": [
    "from math import pi\n",
    "\n",
    "print(\"Pi value =\", pi)"
   ]
  },
  {
   "cell_type": "markdown",
   "metadata": {},
   "source": [
    "- **Namespace** is a container of names shared by objects that typically go together. And its intention is to prevent naming conflicts.\n",
    "Example: math.sqrt and numpy.sqrt are same identical but they exit in different namespace. ***math.sqrt*** can not do the square root for array instead of ***numpy.sqrt*** can do that"
   ]
  },
  {
   "cell_type": "code",
   "execution_count": 9,
   "metadata": {
    "collapsed": false
   },
   "outputs": [
    {
     "name": "stdout",
     "output_type": "stream",
     "text": [
      "Result of square root using numpy.sqrt [ 1.41421356  1.73205081  2.        ]\n"
     ]
    },
    {
     "ename": "TypeError",
     "evalue": "a float is required",
     "output_type": "error",
     "traceback": [
      "\u001b[0;31m---------------------------------------------------------------------------\u001b[0m",
      "\u001b[0;31mTypeError\u001b[0m                                 Traceback (most recent call last)",
      "\u001b[0;32m<ipython-input-9-bd7672fb9f1b>\u001b[0m in \u001b[0;36m<module>\u001b[0;34m()\u001b[0m\n\u001b[1;32m      3\u001b[0m \u001b[1;33m\u001b[0m\u001b[0m\n\u001b[1;32m      4\u001b[0m \u001b[0mprint\u001b[0m\u001b[1;33m(\u001b[0m\u001b[1;34m\"Result of square root using numpy.sqrt\"\u001b[0m\u001b[1;33m,\u001b[0m \u001b[0mnumpy\u001b[0m\u001b[1;33m.\u001b[0m\u001b[0msqrt\u001b[0m\u001b[1;33m(\u001b[0m\u001b[1;33m[\u001b[0m\u001b[1;36m2\u001b[0m\u001b[1;33m,\u001b[0m \u001b[1;36m3\u001b[0m\u001b[1;33m,\u001b[0m \u001b[1;36m4\u001b[0m\u001b[1;33m]\u001b[0m\u001b[1;33m)\u001b[0m\u001b[1;33m)\u001b[0m\u001b[1;33m\u001b[0m\u001b[0m\n\u001b[0;32m----> 5\u001b[0;31m \u001b[0mprint\u001b[0m\u001b[1;33m(\u001b[0m\u001b[1;34m\"Result of square root using math.sqrt\"\u001b[0m\u001b[1;33m,\u001b[0m \u001b[0mmath\u001b[0m\u001b[1;33m.\u001b[0m\u001b[0msqrt\u001b[0m\u001b[1;33m(\u001b[0m\u001b[1;33m[\u001b[0m\u001b[1;36m2\u001b[0m\u001b[1;33m,\u001b[0m \u001b[1;36m3\u001b[0m\u001b[1;33m,\u001b[0m \u001b[1;36m4\u001b[0m\u001b[1;33m]\u001b[0m\u001b[1;33m)\u001b[0m\u001b[1;33m)\u001b[0m\u001b[1;33m\u001b[0m\u001b[0m\n\u001b[0m",
      "\u001b[0;31mTypeError\u001b[0m: a float is required"
     ]
    }
   ],
   "source": [
    "import math\n",
    "import numpy\n",
    "\n",
    "print(\"Result of square root using numpy.sqrt\", numpy.sqrt([2, 3, 4]))\n",
    "print(\"Result of square root using math.sqrt\", math.sqrt([2, 3, 4]))"
   ]
  },
  {
   "cell_type": "markdown",
   "metadata": {},
   "source": [
    "__TIP__\n",
    "* To find the type of the opject using ***type***\n",
    "* What the method available for the object using ***dir***\n",
    "* To understand more some specific method we can using ***help***\n",
    "\n",
    "*help* is defined for methods, whereas *dir* is defined for types or objects."
   ]
  },
  {
   "cell_type": "code",
   "execution_count": 17,
   "metadata": {
    "collapsed": false
   },
   "outputs": [
    {
     "name": "stdout",
     "output_type": "stream",
     "text": [
      "Objec type is <class 'str'>\n",
      "\n",
      "The available function for this object are: ['__add__', '__class__', '__contains__', '__delattr__', '__dir__', '__doc__', '__eq__', '__format__', '__ge__', '__getattribute__', '__getitem__', '__getnewargs__', '__gt__', '__hash__', '__init__', '__iter__', '__le__', '__len__', '__lt__', '__mod__', '__mul__', '__ne__', '__new__', '__reduce__', '__reduce_ex__', '__repr__', '__rmod__', '__rmul__', '__setattr__', '__sizeof__', '__str__', '__subclasshook__', 'capitalize', 'casefold', 'center', 'count', 'encode', 'endswith', 'expandtabs', 'find', 'format', 'format_map', 'index', 'isalnum', 'isalpha', 'isdecimal', 'isdigit', 'isidentifier', 'islower', 'isnumeric', 'isprintable', 'isspace', 'istitle', 'isupper', 'join', 'ljust', 'lower', 'lstrip', 'maketrans', 'partition', 'replace', 'rfind', 'rindex', 'rjust', 'rpartition', 'rsplit', 'rstrip', 'split', 'splitlines', 'startswith', 'strip', 'swapcase', 'title', 'translate', 'upper', 'zfill']\n",
      "\n",
      "The detail of the method name.upper\n",
      "Help on built-in function upper:\n",
      "\n",
      "upper(...) method of builtins.str instance\n",
      "    S.upper() -> str\n",
      "    \n",
      "    Return a copy of S converted to uppercase.\n",
      "\n"
     ]
    }
   ],
   "source": [
    "name = \"This is a string\"\n",
    ";====================================================\n",
    "print(\"Objec type is\", type(name))\n",
    "print()\n",
    ";====================================================\n",
    "print(\"The available function for this object are:\", dir(name))\n",
    "print()\n",
    ";====================================================\n",
    "print(\"The detail of the method name.upper\")\n",
    "help(name.upper)"
   ]
  },
  {
   "cell_type": "markdown",
   "metadata": {},
   "source": [
    "### 1.4 Numbers and Basic Calculations\n",
    "This is an important point distinction between Python 2 and Python 3.\n",
    "\n",
    "Numbers are one type of object in Python. And Python provides three different numeric types:\n",
    "   * ***integers number:*** they have unlimited precision (*will never be too long to fit into Python's integer type*)\n",
    "   * ***floating point number***\n",
    "   * ***complex numbers***\n",
    "   \n",
    "Another important aspect to realize about numbers is that you can freely mix different numeric types.\n",
    "\n",
    "All Python numbers support all the usual arithmetic operations.\n",
    "\n",
    "**TIP**\n",
    "Now, if I hit underscore _ , Python is returning the value of the latest operation."
   ]
  },
  {
   "cell_type": "code",
   "execution_count": 25,
   "metadata": {
    "collapsed": false
   },
   "outputs": [
    {
     "name": "stdout",
     "output_type": "stream",
     "text": [
      "Return the floating result\n",
      "Return the integer result\n"
     ]
    },
    {
     "data": {
      "text/plain": [
       "24"
      ]
     },
     "execution_count": 25,
     "metadata": {},
     "output_type": "execute_result"
    }
   ],
   "source": [
    "print(\"Return the floating result\")\n",
    "7/2\n",
    "print(\"Return the integer result\")\n",
    "7//2\n",
    "\n",
    "import math\n",
    "math.factorial(4)"
   ]
  },
  {
   "cell_type": "markdown",
   "metadata": {},
   "source": [
    "### 1.5 Random Choice\n",
    "Import the random object"
   ]
  },
  {
   "cell_type": "code",
   "execution_count": 30,
   "metadata": {
    "collapsed": false
   },
   "outputs": [
    {
     "name": "stdout",
     "output_type": "stream",
     "text": [
      "1st random choice 2\n",
      "2nd random choice 7\n",
      "3rd random choice 5\n",
      "a\n",
      "a\n"
     ]
    }
   ],
   "source": [
    "import random\n",
    "\n",
    "print(\"1st random choice\", random.choice([10,2,5,6,7]))\n",
    "print(\"2nd random choice\", random.choice([10,2,5,6,7]))\n",
    "print(\"3rd random choice\", random.choice([10,2,5,6,7]))\n",
    "print(random.choice(['a', 'b', 'c', 'd']))\n",
    "print(random.choice(['a', 'b', 'c', 'd']))"
   ]
  },
  {
   "cell_type": "markdown",
   "metadata": {},
   "source": [
    "### 1.6 Expressions and Booleans\n",
    "* Review the Boolean operations or, and, and not\n",
    "* Review the Python comparison operations and the Boolean values they return\n",
    "\n",
    "Expression is a combination of objects and operators that computes a value. Many expressions involve what is known as the boolean data type. Objects of the boolean type have only two values: **True** and **False**."
   ]
  },
  {
   "cell_type": "code",
   "execution_count": 32,
   "metadata": {
    "collapsed": false
   },
   "outputs": [
    {
     "name": "stdout",
     "output_type": "stream",
     "text": [
      "<class 'bool'>\n",
      "<class 'bool'>\n"
     ]
    }
   ],
   "source": [
    "print(type(True))\n",
    "print(type(False))"
   ]
  },
  {
   "cell_type": "markdown",
   "metadata": {},
   "source": [
    "Only 3 boolean operations operation:\n",
    "* **OR**\n",
    "* **AND**\n",
    "* **NOT**"
   ]
  },
  {
   "cell_type": "code",
   "execution_count": 34,
   "metadata": {
    "collapsed": false
   },
   "outputs": [
    {
     "name": "stdout",
     "output_type": "stream",
     "text": [
      "True\n",
      "False\n",
      "True\n"
     ]
    }
   ],
   "source": [
    "print(True or False)\n",
    "print(True and False)\n",
    "print(not False)\n"
   ]
  },
  {
   "cell_type": "markdown",
   "metadata": {},
   "source": [
    "**==** tests whether objects have the same value, whereas **is** tests whether objects have the same identity."
   ]
  },
  {
   "cell_type": "code",
   "execution_count": 36,
   "metadata": {
    "collapsed": false
   },
   "outputs": [
    {
     "name": "stdout",
     "output_type": "stream",
     "text": [
      "True\n",
      "False\n",
      "True\n"
     ]
    }
   ],
   "source": [
    "A=[1,2]\n",
    "B=[1,2]\n",
    "print(A==B)\n",
    "print(A is B)\n",
    "print(2.0==2)"
   ]
  }
 ],
 "metadata": {
  "anaconda-cloud": {},
  "kernelspec": {
   "display_name": "Python [conda env:py3]",
   "language": "python",
   "name": "conda-env-py3-py"
  },
  "language_info": {
   "codemirror_mode": {
    "name": "ipython",
    "version": 3
   },
   "file_extension": ".py",
   "mimetype": "text/x-python",
   "name": "python",
   "nbconvert_exporter": "python",
   "pygments_lexer": "ipython3",
   "version": "3.5.2"
  }
 },
 "nbformat": 4,
 "nbformat_minor": 1
}
