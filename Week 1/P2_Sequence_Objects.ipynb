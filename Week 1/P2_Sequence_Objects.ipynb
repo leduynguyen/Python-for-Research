{
 "cells": [
  {
   "cell_type": "markdown",
   "metadata": {},
   "source": [
    "# Week 1\n",
    "## Part 2: Sequence Objects\n",
    "### 2.1 Sequences\n",
    "In Python, there are three basic sequences, which are ***lists, tuples,*** and so-called ***\"range objects\"***.\n",
    "\n",
    "The first fundamental aspect to understand about sequences is that indexing starts at 0.\n",
    "\n",
    "So we can access sequences either by giving a **positive index**, which is counting a location from **left to right**, or we can use a **negative index**, which is counting positions from **right to left**.\n",
    "\n",
    "Sequences also support an operation called **\"slicing.\"** This first index, the first position is the start position, and the second position here is to stop position. ***Python slices stop before Python reaches the element at the stop location.***\n",
    "\n",
    "### 2.2 Lists\n",
    "Lists are one type of sequence and they are **mutable sequences of objects of any type**.\n",
    "\n",
    "In Python, I can use the plus sign as long as both objects are lists to concatenate them.\n",
    "\n",
    "Why do list methods such as **reverse and sort** return nothing? They are in-place methods, meaning they alter the content of the original list.\n",
    "\n",
    "### 2.3 Tuples\n",
    "Tuples are **immutable sequences** typically used to store heterogeneous data. Because tuples are immutable, so they can't be edited after they’ve been created. The best way to view tuples is as a **single object that consists of several different parts**.\n",
    "\n",
    "Tuples have many uses in Python programming. One especially important use case is when you want to return more than one object from your Python function. In that case, you would typically wrap all of those objects within a single tuple object, and then return that tuple.\n",
    "\n",
    "Pack and unpack tuples. Construct a tuple object with two variables x and y in a coordinate tuples type. Then unpack the coordinate typle to 2 variables c1 and c2."
   ]
  },
  {
   "cell_type": "code",
   "execution_count": 3,
   "metadata": {
    "collapsed": false
   },
   "outputs": [],
   "source": [
    "# Pack 2 values to a typle\n",
    "x = 12.5\n",
    "y = 15.7\n",
    "coordinate = (x, y)\n",
    "type(coordinate)\n",
    "\n",
    "# Unpack a typle\n",
    "(c1, c2) = coordinate"
   ]
  },
  {
   "cell_type": "markdown",
   "metadata": {},
   "source": [
    "To construct a tuple with just **one object**, we have to use the following syntax -> (object, )"
   ]
  },
  {
   "cell_type": "code",
   "execution_count": 5,
   "metadata": {
    "collapsed": false
   },
   "outputs": [
    {
     "name": "stdout",
     "output_type": "stream",
     "text": [
      "<class 'int'>\n",
      "<class 'tuple'>\n"
     ]
    }
   ],
   "source": [
    "# Define uncorrect a tuple with 1 object\n",
    "not_typle = (3)\n",
    "print(type(not_typle))\n",
    "\n",
    "# Define the correct a tuple with a object\n",
    "c = (3, )\n",
    "print(type(c))"
   ]
  },
  {
   "cell_type": "markdown",
   "metadata": {},
   "source": [
    "### 2.4 Ranges\n",
    "Ranges are **immutable sequences of integers** and they are commonly used in for loops. The input argument to range is the stopping value. And remember, Python stops before it hits the stopping value.\n",
    "\n",
    "We can provide the starting point, and we can also define the step size."
   ]
  },
  {
   "cell_type": "code",
   "execution_count": 10,
   "metadata": {
    "collapsed": false
   },
   "outputs": [
    {
     "name": "stdout",
     "output_type": "stream",
     "text": [
      "[0, 1, 2, 3, 4]\n",
      "[0, 2, 4, 6, 8, 10, 12, 14]\n"
     ]
    }
   ],
   "source": [
    "# The range from 0 to 5, step size is default to 1\n",
    "print(list(range(0,5)))\n",
    "\n",
    "# The range from 0 to 14 with step size = 2\n",
    "print(list(range(0,15,2)))"
   ]
  },
  {
   "cell_type": "markdown",
   "metadata": {},
   "source": [
    "Don't turn the range into lists before using them.\n",
    "\n",
    "Here is another point of difference between Python 2 and Python 3!\n",
    "\n",
    "    * Note that the Python 3 range object is a generator, similar to the Python 2 xrange object.\n",
    "    * In contrast, the Python 2 range object is a list, which instantiates its elements.\n",
    "\n",
    "Ranges do not instantiate their elements. The range objects only store the start value, stop value, and step size rather than all of the elements of the list. Therefore using them in the loop is more efficient.\n",
    "\n",
    "### 2.5 Strings\n",
    "Strings are immutable sequences of characters. In Python, you can enclose strings in either **single quotes**, in **quotation marks**, or in **triple quotes**.\n",
    "Let's look at a couple of c"
   ]
  },
  {
   "cell_type": "code",
   "execution_count": 15,
   "metadata": {
    "collapsed": false
   },
   "outputs": [
    {
     "name": "stdout",
     "output_type": "stream",
     "text": [
      "this is a stringthis is a stringthis is a string\n",
      "\n",
      "['__add__', '__class__', '__contains__', '__delattr__', '__dir__', '__doc__', '__eq__', '__format__', '__ge__', '__getattribute__', '__getitem__', '__getnewargs__', '__gt__', '__hash__', '__init__', '__iter__', '__le__', '__len__', '__lt__', '__mod__', '__mul__', '__ne__', '__new__', '__reduce__', '__reduce_ex__', '__repr__', '__rmod__', '__rmul__', '__setattr__', '__sizeof__', '__str__', '__subclasshook__', 'capitalize', 'casefold', 'center', 'count', 'encode', 'endswith', 'expandtabs', 'find', 'format', 'format_map', 'index', 'isalnum', 'isalpha', 'isdecimal', 'isdigit', 'isidentifier', 'islower', 'isnumeric', 'isprintable', 'isspace', 'istitle', 'isupper', 'join', 'ljust', 'lower', 'lstrip', 'maketrans', 'partition', 'replace', 'rfind', 'rindex', 'rjust', 'rpartition', 'rsplit', 'rstrip', 'split', 'splitlines', 'startswith', 'strip', 'swapcase', 'title', 'translate', 'upper', 'zfill']\n"
     ]
    }
   ],
   "source": [
    "# Using * for multi concate the string\n",
    "S=\"this is a string\"\n",
    "print(S*3)\n",
    "\n",
    "# Some method for string\n",
    "print()\n",
    "print(dir(str))\n",
    "\n",
    "# Looking for the detal help in the method\n",
    "str.isupper?"
   ]
  },
  {
   "cell_type": "markdown",
   "metadata": {},
   "source": [
    "### 2.6 Sets\n",
    "Sets are unordered collections of distinct hashable objects. In practice, what that means is you **can use sets for immutable objects** like numbers and strings, but **not for mutable objects** like lists and dictionaries.\n",
    "There are two types of sets. \n",
    "    * One type of set is called just \"a set\".\n",
    "    * And the other type of set is called \"a frozen set\".\n",
    "The difference between these two is that a **frozen set is not mutable** once it has been created. In other words, it's immutable.\n",
    "\n",
    "A set as an **unordered collection of objects**. One of the key ideas about sets is that they cannot be indexed. So the objects inside **sets don't have locations**.\n",
    "\n",
    "Another key feature about sets is that the elements can **never be duplicated**. This means that all of the objects inside a set\n",
    "are always going to be unique or distinct.\n",
    "\n",
    "Python sets are especially useful for keeping track of distinct objects and doing mathematical set operations like unions, intersections, and set differences."
   ]
  },
  {
   "cell_type": "code",
   "execution_count": 17,
   "metadata": {
    "collapsed": false
   },
   "outputs": [
    {
     "name": "stdout",
     "output_type": "stream",
     "text": [
      "{0, 1, 2, 3, 4, 5, 6, 7, 8}\n",
      "{1, 3, 5, 7}\n",
      "{0, 8, 2, 4, 6}\n",
      "Union\n",
      "{0, 1, 2, 3, 4, 5, 6, 7, 8}\n",
      "And\n",
      "{1, 2, 3}\n"
     ]
    }
   ],
   "source": [
    "ids= set(range(0,9))\n",
    "print(ids)\n",
    "\n",
    "males = set([1,3,5,7])\n",
    "females = ids - males\n",
    "print(males)\n",
    "print(females)\n",
    "\n",
    "print(\"Union\")\n",
    "everyone = males | females\n",
    "print(everyone)\n",
    "\n",
    "print(\"And\")\n",
    "print(everyone & set([1,2,3]))"
   ]
  },
  {
   "cell_type": "code",
   "execution_count": 18,
   "metadata": {
    "collapsed": false
   },
   "outputs": [
    {
     "data": {
      "text/plain": [
       "10"
      ]
     },
     "execution_count": 18,
     "metadata": {},
     "output_type": "execute_result"
    }
   ],
   "source": [
    "# Example count how many letter in the string\n",
    "word = \"aaabsaodawlkdlknmlasnda\"\n",
    "letters = set(word)\n",
    "len(letters)"
   ]
  },
  {
   "cell_type": "markdown",
   "metadata": {},
   "source": [
    "Example 1: \n",
    "Let sets x={1,2,3} and y={2,3,4}. How could you get {4} from x and y using basic set operations?"
   ]
  },
  {
   "cell_type": "code",
   "execution_count": 23,
   "metadata": {
    "collapsed": false
   },
   "outputs": [
    {
     "name": "stdout",
     "output_type": "stream",
     "text": [
      "{4}\n",
      "{4}\n"
     ]
    }
   ],
   "source": [
    "x={1,2,3}\n",
    "y={2,3,4}\n",
    "print(y-x)\n",
    "print(y.difference(x)) "
   ]
  },
  {
   "cell_type": "markdown",
   "metadata": {},
   "source": [
    "Example 2: Consider again sets x={1,2,3} and y={2,3,4}. How could you get {2, 3} from x and y using basic set operations?"
   ]
  },
  {
   "cell_type": "code",
   "execution_count": 24,
   "metadata": {
    "collapsed": false
   },
   "outputs": [
    {
     "name": "stdout",
     "output_type": "stream",
     "text": [
      "{2, 3}\n",
      "{2, 3}\n"
     ]
    }
   ],
   "source": [
    "x={1,2,3}\n",
    "y={2,3,4}\n",
    "print(x&y)\n",
    "print(x.intersection(y))"
   ]
  },
  {
   "cell_type": "markdown",
   "metadata": {},
   "source": [
    "Example 3: Consider again sets x={1,2,3} and y={2,3,4}. How could you get {1, 4} from x and y using basic set operations"
   ]
  },
  {
   "cell_type": "code",
   "execution_count": 29,
   "metadata": {
    "collapsed": false
   },
   "outputs": [
    {
     "name": "stdout",
     "output_type": "stream",
     "text": [
      "{1, 4}\n",
      "{1, 4}\n"
     ]
    }
   ],
   "source": [
    "x={1,2,3}\n",
    "y={2,3,4}\n",
    "print(x.symmetric_difference(y))\n",
    "print((x|y)-(x&y))"
   ]
  },
  {
   "cell_type": "markdown",
   "metadata": {},
   "source": [
    "Example 4: Consider x={1,2,3} and y={2,3,4} . Which following lines of code will determine if all elements of x are in y ?"
   ]
  },
  {
   "cell_type": "code",
   "execution_count": 30,
   "metadata": {
    "collapsed": false
   },
   "outputs": [
    {
     "name": "stdout",
     "output_type": "stream",
     "text": [
      "False\n"
     ]
    }
   ],
   "source": [
    "x={1,2,3}\n",
    "y={2,3,4}\n",
    "print(x.issubset(y))"
   ]
  },
  {
   "cell_type": "markdown",
   "metadata": {},
   "source": [
    "### 2.7 Dictionaries\n",
    "Dictionaries are mappings from key objects to value objects. Dictionaries consists of **Key:Value pairs**, where the **keys must be immutable** and **the values can be anything**. Dictionaries themselves are mutable object.\n",
    "\n",
    "Dictionaries can be used for performing very **fast look-ups on unordered data**. They are not sequences, and therefore do not maintain any type of left-right order. The Key:Value pairs will be iterated over in arbitrary order.\n",
    "\n",
    "Two ways to construct the dictionary. The first approach is just to use a pair of curly braces {}. Another possibility is to type dict()."
   ]
  },
  {
   "cell_type": "code",
   "execution_count": 3,
   "metadata": {
    "collapsed": false
   },
   "outputs": [
    {
     "name": "stdout",
     "output_type": "stream",
     "text": [
      "John age is 7\n",
      "{'Harry': 51, 'Jim': 19, 'John': 7}\n"
     ]
    }
   ],
   "source": [
    "# Create a dictionary\n",
    "myDictionary = {}\n",
    "# The order approach to create a dictionary\n",
    "otherDictionary = dict()\n",
    "\n",
    "age = {\"Jim\":19, \"John\":7, \"Harry\":50}\n",
    "print('John age is',age[\"John\"])\n",
    "# Modify the value of the key\n",
    "age[\"Harry\"] = 51\n",
    "print(age)\n"
   ]
  },
  {
   "cell_type": "markdown",
   "metadata": {},
   "source": [
    "View Object provides a dynamic view of the keys or values in the dictionary. A key point here is that as you update or modify your dictionary, the views will also change correspondingly."
   ]
  },
  {
   "cell_type": "code",
   "execution_count": 10,
   "metadata": {
    "collapsed": false
   },
   "outputs": [
    {
     "name": "stdout",
     "output_type": "stream",
     "text": [
      "dict_keys(['Harry', 'Tome', 'Jim', 'John'])\n",
      "dict_values([50, 50, 19, 7])\n"
     ]
    },
    {
     "data": {
      "text/plain": [
       "True"
      ]
     },
     "execution_count": 10,
     "metadata": {},
     "output_type": "execute_result"
    }
   ],
   "source": [
    "age = {\"Jim\":19, \"John\":7, \"Harry\":50}\n",
    "\n",
    "# View Object names\n",
    "names = age.keys()\n",
    "age[\"Tome\"]=50\n",
    "print(names)\n",
    "ages = age.values()\n",
    "\n",
    "# Check the membership in a dictionary\n",
    "print(ages)\n",
    "\"Tome\" in age"
   ]
  }
 ],
 "metadata": {
  "anaconda-cloud": {},
  "kernelspec": {
   "display_name": "Python [conda env:py3]",
   "language": "python",
   "name": "conda-env-py3-py"
  },
  "language_info": {
   "codemirror_mode": {
    "name": "ipython",
    "version": 3
   },
   "file_extension": ".py",
   "mimetype": "text/x-python",
   "name": "python",
   "nbconvert_exporter": "python",
   "pygments_lexer": "ipython3",
   "version": "3.5.2"
  }
 },
 "nbformat": 4,
 "nbformat_minor": 1
}
