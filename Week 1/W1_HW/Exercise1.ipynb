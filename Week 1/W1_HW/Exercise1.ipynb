{
 "cells": [
  {
   "cell_type": "markdown",
   "metadata": {},
   "source": [
    "# Exercise 1a\n",
    "The lowercase and uppercase English alphabet can be found using ascii_letters attribute in the string library. \n",
    "Store this as alphabet."
   ]
  },
  {
   "cell_type": "code",
   "execution_count": 6,
   "metadata": {
    "collapsed": false
   },
   "outputs": [
    {
     "name": "stdout",
     "output_type": "stream",
     "text": [
      "abcdefghijklmnopqrstuvwxyzABCDEFGHIJKLMNOPQRSTUVWXYZ\n"
     ]
    }
   ],
   "source": [
    "import string\n",
    "alphabet = string.ascii_letters\n",
    "# Show the result of alphabet\n",
    "print(alphabet)"
   ]
  },
  {
   "cell_type": "markdown",
   "metadata": {},
   "source": [
    "# Exercise 1b\n",
    "* The lower and upper cases of the English alphabet is stored as alphabet.\n",
    "* Consider the sentence 'Jim quickly realized that the beautiful gowns are expensive'. Create a dictionary count_letters with keys consisting of each unique letter in the sentence and values consisting of the number of times each letter is used in this sentence."
   ]
  },
  {
   "cell_type": "code",
   "execution_count": 4,
   "metadata": {
    "collapsed": false
   },
   "outputs": [
    {
     "name": "stdout",
     "output_type": "stream",
     "text": [
      "{'d': 1, 'p': 1, 'n': 2, 'i': 5, 'e': 8, 'm': 1, 'k': 1, 'w': 1, 'z': 1, 'y': 1, 'r': 2, 'q': 1, 'h': 2, 'g': 1, 'u': 3, 'v': 1, 'x': 1, 's': 2, 'J': 1, 'f': 1, 'o': 1, 'c': 1, 'a': 4, 't': 4, 'b': 1, 'l': 3}\n"
     ]
    }
   ],
   "source": [
    "import string\n",
    "\n",
    "sentence = 'Jim quickly realized that the beautiful gowns are expensive'\n",
    "alphabet = string.ascii_letters\n",
    "\n",
    "count_letters = {letter:sentence.count(letter) for letter in set(sentence) if letter in alphabet}\n",
    "print(count_letters)"
   ]
  },
  {
   "cell_type": "markdown",
   "metadata": {
    "collapsed": true
   },
   "source": [
    "# Exercise 1c\n",
    "* Rewrite your code from 1b to make a function called **counter** that takes a string **input_string** and returns a dictionary of letter counts count_letters. If you were unable to complete 1b, you can use the solution by selecting Show Answer.\n",
    "* Use your function to call *counter(sentence)*."
   ]
  },
  {
   "cell_type": "code",
   "execution_count": 1,
   "metadata": {
    "collapsed": false
   },
   "outputs": [
    {
     "name": "stdout",
     "output_type": "stream",
     "text": [
      "{'d': 1, 'v': 1, 'o': 1, 'm': 1, 'x': 1, 's': 2, 'h': 2, 'q': 1, 'l': 3, 'z': 1, 'y': 1, 'g': 1, 'p': 1, 'c': 1, 'w': 1, 't': 4, 'r': 2, 'i': 5, 'f': 1, 'b': 1, 'u': 3, 'e': 8, 'k': 1, 'n': 2, 'a': 4, 'J': 1}\n"
     ]
    }
   ],
   "source": [
    "import string\n",
    "sentence = 'Jim quickly realized that the beautiful gowns are expensive'\n",
    "\n",
    "def counter(input_string):\n",
    "    alphabet = string.ascii_letters\n",
    "    count_letters = {letter:sentence.count(letter) for letter in set(input_string) if letter in alphabet}\n",
    "    return count_letters\n",
    "\n",
    "print(counter(sentence))"
   ]
  },
  {
   "cell_type": "markdown",
   "metadata": {},
   "source": [
    "# Exercise 1d\n",
    "* Abraham Lincoln was a president during the American Civil War. His famous 1863 Gettysburg Address has been stored as **address**, and the **counter** function defined in *part 1c* has been loaded. Use these to return a dictionary consisting of the count of each letter in this address, and save this as **address_count**.\n",
    "* Print address_count."
   ]
  },
  {
   "cell_type": "code",
   "execution_count": null,
   "metadata": {
    "collapsed": false
   },
   "outputs": [],
   "source": [
    "address_count = counter(address)\n",
    "print(address_count)"
   ]
  },
  {
   "cell_type": "markdown",
   "metadata": {
    "collapsed": true
   },
   "source": [
    "# Exercise 1e\n",
    "* What is the most common letter used in the Gettysburg Address?\n",
    "* Store this letter as most_frequent_letter, and print your answer."
   ]
  },
  {
   "cell_type": "code",
   "execution_count": null,
   "metadata": {
    "collapsed": true
   },
   "outputs": [],
   "source": [
    "# Find the maximum values in dictionary\n",
    "maxVal = max((address_count.values()))\n",
    "\n",
    "# Find the keys has the maximum value\n",
    "most_frequent_letters = [key for key in address_count.keys() if address_count[key]==maxVal]\n",
    "\n",
    "most_frequent_letter = most_frequent_letters[0]\n",
    "print(most_frequent_letter)"
   ]
  }
 ],
 "metadata": {
  "anaconda-cloud": {},
  "kernelspec": {
   "display_name": "Python [conda env:py3]",
   "language": "python",
   "name": "conda-env-py3-py"
  },
  "language_info": {
   "codemirror_mode": {
    "name": "ipython",
    "version": 3
   },
   "file_extension": ".py",
   "mimetype": "text/x-python",
   "name": "python",
   "nbconvert_exporter": "python",
   "pygments_lexer": "ipython3",
   "version": "3.5.2"
  }
 },
 "nbformat": 4,
 "nbformat_minor": 1
}
