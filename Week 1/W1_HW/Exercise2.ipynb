{
 "cells": [
  {
   "cell_type": "markdown",
   "metadata": {},
   "source": [
    "# Exercise 2\n",
    "The ratio of the areas of a circle and the square inscribing it is pi/4. In this six-part exercise, we will find a way to approximate this value.\n",
    "\n",
    "## Exercise 2a\n",
    "* Using the math library, calculate and print the value of pi/4."
   ]
  },
  {
   "cell_type": "code",
   "execution_count": 1,
   "metadata": {
    "collapsed": false
   },
   "outputs": [
    {
     "name": "stdout",
     "output_type": "stream",
     "text": [
      "0.7853981633974483\n"
     ]
    }
   ],
   "source": [
    "import math\n",
    "print(math.pi/4)"
   ]
  },
  {
   "cell_type": "markdown",
   "metadata": {},
   "source": [
    "## Exercise 2b\n",
    "* Using random.uniform, create a function rand() that generates a single float between -1 and 1.\n",
    "\n",
    "* Call rand() once. So we can check your solution, we will use random.seed to fix the value called by your function."
   ]
  },
  {
   "cell_type": "code",
   "execution_count": 2,
   "metadata": {
    "collapsed": true
   },
   "outputs": [],
   "source": [
    "import random\n",
    "\n",
    "random.seed(1) # This line fixes the value called by your function,\n",
    "               # and is used for answer-checking.\n",
    "\n",
    "def rand():\n",
    "   # define `rand` here!\n",
    "    random.uniform(-1,1)\n",
    "rand()"
   ]
  },
  {
   "cell_type": "markdown",
   "metadata": {},
   "source": [
    "## Exercise 2c\n",
    "* The distance between two points x and y is the square root of the sum of squared differences along each dimension of x and y.\n",
    "Create a function distance(x, y) that takes two vectors and outputs the distance between them. Use your function to find the distance between (0,0) and (1,1).\n",
    "\n",
    "* Print your answer."
   ]
  },
  {
   "cell_type": "code",
   "execution_count": 3,
   "metadata": {
    "collapsed": false
   },
   "outputs": [
    {
     "name": "stdout",
     "output_type": "stream",
     "text": [
      "1.4142135623730951\n"
     ]
    }
   ],
   "source": [
    "import math\n",
    "\n",
    "def distance(x, y):\n",
    "   # define your function here!\n",
    "   return math.sqrt((y[0] - x[0])**2 + (y[1]-x[1])**2)\n",
    "\n",
    "print(distance((0,0),(1,1)))"
   ]
  },
  {
   "cell_type": "markdown",
   "metadata": {},
   "source": [
    "## Exercise 2d\n",
    "* distance(x, y) is pre-loaded from part 2c. Make a function in_circle(x, origin) that uses distance to determine if a two-dimensional point falls within the the unit circle with a given origin. That is, find if a two-dimensional point has distance <1 from the origin (0,0).\n",
    "* Use your function to print whether the point (1,1) lies within the unit circle centered at (0,0)."
   ]
  },
  {
   "cell_type": "code",
   "execution_count": 6,
   "metadata": {
    "collapsed": false
   },
   "outputs": [
    {
     "name": "stdout",
     "output_type": "stream",
     "text": [
      "False\n"
     ]
    }
   ],
   "source": [
    "import random, math\n",
    "random.seed(1)\n",
    "\n",
    "def in_circle(x, origin = [0]*2):\n",
    "   # Define your function here!\n",
    "   return distance(x, origin)<1\n",
    "\n",
    "print(in_circle((1,1)))"
   ]
  },
  {
   "cell_type": "markdown",
   "metadata": {},
   "source": [
    "## Exercise 2e\n",
    "* The functions rand and in_circle are defined from previous exercises. Using these functions, code is pre-entered that creates a list x of R=10000 two-dimensional points. Create a list of 10000 booleans called inside that are True if and only if the point in x with that index falls within the unit circle. Make sure to use in_circle!\n",
    "* Print the proportion of points within the circle. This proportion is an estimate of the ratio of the two areas!"
   ]
  },
  {
   "cell_type": "code",
   "execution_count": null,
   "metadata": {
    "collapsed": false
   },
   "outputs": [],
   "source": [
    "R = 10000\n",
    "x = []\n",
    "inside = []\n",
    "for i in range(R):\n",
    "    point = [rand(), rand()]\n",
    "    x.append(point)\n",
    "    # Enter your code here! #\n",
    "    inside.append(in_circle(point))\n",
    "\n",
    "# Enter your code here! #\n",
    "print(inside.count(True)/R)"
   ]
  },
  {
   "cell_type": "markdown",
   "metadata": {},
   "source": [
    "## Exercise 2f\n",
    "* Note: inside and R are defined as in Exercise 2e. Recall the true ratio of the area of of the unit circle to the area to the inscribing square is pi/4.\n",
    "* Find and print the difference between this value and your estimate from part 2e."
   ]
  },
  {
   "cell_type": "code",
   "execution_count": null,
   "metadata": {
    "collapsed": true
   },
   "outputs": [],
   "source": [
    "# write your code here!\n",
    "print(math.pi/4 - (inside.count(True)/R))"
   ]
  }
 ],
 "metadata": {
  "anaconda-cloud": {},
  "kernelspec": {
   "display_name": "Python [conda env:py3]",
   "language": "python",
   "name": "conda-env-py3-py"
  },
  "language_info": {
   "codemirror_mode": {
    "name": "ipython",
    "version": 3
   },
   "file_extension": ".py",
   "mimetype": "text/x-python",
   "name": "python",
   "nbconvert_exporter": "python",
   "pygments_lexer": "ipython3",
   "version": "3.5.2"
  }
 },
 "nbformat": 4,
 "nbformat_minor": 1
}
