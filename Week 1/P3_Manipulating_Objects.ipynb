{
 "cells": [
  {
   "cell_type": "markdown",
   "metadata": {},
   "source": [
    "# Week 1\n",
    "## Part 3: Manipulating Objects\n",
    "### 3.1 Dynamic Typing\n",
    "**Static typing** means that type checking is performed during compile time.\n",
    "\n",
    "**Dynamic typing** means that type checking is performed at run time.\n",
    "\n",
    "There are three important concepts here: **variable, object** and **reference**.\n",
    "\n",
    "Example: **x=3**\n",
    "   - The first thing Python will do is create the **object**, in this case, **number 3**.\n",
    "   - The second thing Python will do is it will create the **variable name, x**.\n",
    "   - And the third thing is Python will insert a **reference** *from the name of the variable to the actual object.*\n",
    "\n",
    "Variable names and objects are stored in different parts of computer's memory. A key point to remember here is that **variable names always link to objects, never to other variables**.\n",
    "\n",
    "Remember, mutable objects, like lists and dictionaries, can be modified at any point of program execution. In contrast, immutable objects, like numbers and strings, cannot be altered after they've been created in the program.\n",
    "\n",
    "The mutable objects can be **identical in content**, yet be **different objects**."
   ]
  },
  {
   "cell_type": "code",
   "execution_count": 2,
   "metadata": {
    "collapsed": false
   },
   "outputs": [
    {
     "name": "stdout",
     "output_type": "stream",
     "text": [
      "True\n",
      "False\n",
      "id of L 75188104\n",
      "id of M 75183048\n"
     ]
    }
   ],
   "source": [
    "# Example 1\n",
    "L = [1, 2, 3]\n",
    "M = [1, 2, 3]\n",
    "# Compare 2 objects\n",
    "print(L==M)\n",
    "\n",
    "print(L is M)\n",
    "print(\"id of L\", id(L))\n",
    "print(\"id of M\", id(M))"
   ]
  },
  {
   "cell_type": "code",
   "execution_count": 6,
   "metadata": {
    "collapsed": false
   },
   "outputs": [
    {
     "name": "stdout",
     "output_type": "stream",
     "text": [
      "True\n",
      "True\n"
     ]
    }
   ],
   "source": [
    "# Example 2\n",
    "L = [1, 2, 3]\n",
    "M = L\n",
    "print(L==M)\n",
    "print(L is M)"
   ]
  },
  {
   "cell_type": "code",
   "execution_count": 8,
   "metadata": {
    "collapsed": false
   },
   "outputs": [
    {
     "name": "stdout",
     "output_type": "stream",
     "text": [
      "True\n",
      "False\n"
     ]
    }
   ],
   "source": [
    "# Example 3\n",
    "L = [1, 2, 3]\n",
    "M = list(L)\n",
    "print(L==M)\n",
    "print(L is M)"
   ]
  },
  {
   "cell_type": "markdown",
   "metadata": {
    "collapsed": true
   },
   "source": [
    "### 3.2 Copies\n",
    "Python provides the copy module, which you can use for creating identical copies of object. There are two types of copies that are available:\n",
    "   * A **shallow copy** constructs a new compound object and then insert its references into it to the original object.\n",
    "   * A **deep copy** constructs a new compound object and then recursively inserts copies into it of the original objects."
   ]
  },
  {
   "cell_type": "code",
   "execution_count": 8,
   "metadata": {
    "collapsed": false
   },
   "outputs": [
    {
     "name": "stdout",
     "output_type": "stream",
     "text": [
      "False\n"
     ]
    }
   ],
   "source": [
    "import copy \n",
    "x = [1,[2]]\n",
    "\n",
    "# Shallow copy\n",
    "y = copy.copy(x)\n",
    "# Deep copy\n",
    "z = copy.deepcopy(x)\n",
    "print(y is z)"
   ]
  },
  {
   "cell_type": "markdown",
   "metadata": {},
   "source": [
    "### 3.3 Statements\n",
    "Statements are used to compute values, assign values, and modify attributes, among many other things.\n",
    "\n",
    "   - The **import** statement, which is used to import modules.\n",
    "   - The **return** statement is used to return values from a function.\n",
    "   - The **pass** statement is used to do nothing.\n",
    "   - The **compound** statements contain groups of other statements and they affect or control the execution of those other statements in some way.\n",
    "   - The **if** statements\n",
    "   >    if *test1*:\n",
    "   >        [block of code]\n",
    "   >    elif *test2*:\n",
    "   >        [block of code]\n",
    "   >    else:\n",
    "   >        [block of code]\n",
    "   \n",
    "### 3.4 For and While Loops\n",
    "The **For Loop** is a sequence iteration that assigns items in sequence to target one at a time and runs the block of code for each item."
   ]
  },
  {
   "cell_type": "code",
   "execution_count": 9,
   "metadata": {
    "collapsed": false
   },
   "outputs": [
    {
     "name": "stdout",
     "output_type": "stream",
     "text": [
      "Alex 10\n",
      "Carter 55\n",
      "Jim 31\n",
      "Nick 15\n"
     ]
    }
   ],
   "source": [
    "# Example 1\n",
    "age = {\"Jim\":31, \"Nick\":15, \"Carter\":55, \"Alex\":10}\n",
    "for name in sorted(age.keys()):\n",
    "    print(name, age[name])"
   ]
  },
  {
   "cell_type": "code",
   "execution_count": 10,
   "metadata": {
    "collapsed": false,
    "scrolled": true
   },
   "outputs": [
    {
     "name": "stdout",
     "output_type": "stream",
     "text": [
      "Nick 15\n",
      "Jim 31\n",
      "Carter 55\n",
      "Alex 10\n"
     ]
    }
   ],
   "source": [
    "# Example 2\n",
    "age = {\"Jim\":31, \"Nick\":15, \"Carter\":55, \"Alex\":10}\n",
    "for name in sorted(age.keys(), reverse=True):\n",
    "    print(name, age[name])"
   ]
  },
  {
   "cell_type": "markdown",
   "metadata": {},
   "source": [
    "### 3.5 List Comprehensions\n",
    "A common operation in Python is to take an existing list, apply some operation to all of the items on the list and then create a new list that contains the results. In Python, there is an operator for this task known as a \"list comprehension\"."
   ]
  },
  {
   "cell_type": "code",
   "execution_count": 11,
   "metadata": {
    "collapsed": false
   },
   "outputs": [
    {
     "name": "stdout",
     "output_type": "stream",
     "text": [
      "[0, 1, 4, 9, 16, 25, 36, 49, 64, 81]\n",
      "[0, 1, 4, 9, 16, 25, 36, 49, 64, 81]\n"
     ]
    }
   ],
   "source": [
    "# Traditional approach \n",
    "numbers = range(10)\n",
    "squares = []\n",
    "for number in numbers:\n",
    "    square = number**2\n",
    "    squares.append(square)\n",
    "print(squares)\n",
    "\n",
    "# The comprehension approach\n",
    "square_comp = [number**2 for number in range(10)]\n",
    "print(square_comp)"
   ]
  },
  {
   "cell_type": "markdown",
   "metadata": {},
   "source": [
    "### 3.6 Reading and Writing Files\n"
   ]
  },
  {
   "cell_type": "code",
   "execution_count": 13,
   "metadata": {
    "collapsed": false
   },
   "outputs": [
    {
     "name": "stdout",
     "output_type": "stream",
     "text": [
      "This is the first line\n",
      "\n",
      "This is the second line\n",
      "\n",
      "The last is the third line\n"
     ]
    }
   ],
   "source": [
    "# Example 1:\n",
    "filename = \"text.txt\"\n",
    "for line in open(filename):\n",
    "    print(line)"
   ]
  },
  {
   "cell_type": "code",
   "execution_count": 14,
   "metadata": {
    "collapsed": false
   },
   "outputs": [
    {
     "name": "stdout",
     "output_type": "stream",
     "text": [
      "This is the first line\n",
      "This is the second line\n",
      "The last is the third line\n"
     ]
    }
   ],
   "source": [
    "# Example 2:\n",
    "filename = \"text.txt\"\n",
    "for line in open(filename):\n",
    "    line = line.rstrip()\n",
    "    print(line)"
   ]
  },
  {
   "cell_type": "code",
   "execution_count": 15,
   "metadata": {
    "collapsed": false
   },
   "outputs": [
    {
     "name": "stdout",
     "output_type": "stream",
     "text": [
      "['This', 'is', 'the', 'first', 'line']\n",
      "['This', 'is', 'the', 'second', 'line']\n",
      "['The', 'last', 'is', 'the', 'third', 'line']\n"
     ]
    }
   ],
   "source": [
    "# Example 3:\n",
    "filename = \"text.txt\"\n",
    "for line in open(filename):\n",
    "    line = line.rstrip().split(\" \")\n",
    "    print(line)"
   ]
  },
  {
   "cell_type": "code",
   "execution_count": 17,
   "metadata": {
    "collapsed": true
   },
   "outputs": [],
   "source": [
    "# Example 4:\n",
    "F = open(\"output.txt\", \"w\")\n",
    "F.write(\"My string \\n\")\n",
    "F.close()"
   ]
  },
  {
   "cell_type": "markdown",
   "metadata": {},
   "source": [
    "### 3.7 Introduction to Functions\n",
    "Functions are devices for grouping statements so that they can be easily run more than once in a program. Functions maximize code reuse and minimize code redundancy. Functions enable dividing larger tasks into smaller chunks, an approach that is called procedural decomposition.\n",
    "\n",
    "As a general rule, all names created or assigned in a function are local of that function and they exist only while the function runs. To modify the value of a global variable from inside a function, you can use the global statement.\n",
    "\n",
    "Functions are written using the **def** statement. You can send the result object back to the caller using the **return** statement.\n",
    "\n",
    "As a general rule, all names created or assigned in a function are local of that function and they exist only while the function runs. To modify the value of a global variable from inside a function, you can use the global statement."
   ]
  },
  {
   "cell_type": "code",
   "execution_count": 19,
   "metadata": {
    "collapsed": false
   },
   "outputs": [
    {
     "data": {
      "text/plain": [
       "(17, 7)"
      ]
     },
     "execution_count": 19,
     "metadata": {},
     "output_type": "execute_result"
    }
   ],
   "source": [
    "def add_and_sub(a, b):\n",
    "    mysum = a+b\n",
    "    mydiff = a-b\n",
    "    return (mysum, mydiff)\n",
    "\n",
    "add_and_sub(12, 5)"
   ]
  },
  {
   "cell_type": "markdown",
   "metadata": {},
   "source": [
    "### 3.8 Common Mistakes and Errors\n",
    "* Forgetting that dictionaries have no left-right ordering. Remember in a dictionary, a given key object is always coupled with its value object, but the key value pairs themselves can appear in any order inside the dictionary.\n",
    "* Trying to modify immutable objects. Remember immutable objects cannot be modified after they have been created.\n",
    "* Trying to operate on two objects that are actually of different type.\n",
    "* A very common error in Python has to do with indentation. And this error happens especially frequently in the context of functions."
   ]
  }
 ],
 "metadata": {
  "anaconda-cloud": {},
  "kernelspec": {
   "display_name": "Python [conda env:py3]",
   "language": "python",
   "name": "conda-env-py3-py"
  },
  "language_info": {
   "codemirror_mode": {
    "name": "ipython",
    "version": 3
   },
   "file_extension": ".py",
   "mimetype": "text/x-python",
   "name": "python",
   "nbconvert_exporter": "python",
   "pygments_lexer": "ipython3",
   "version": "3.5.2"
  }
 },
 "nbformat": 4,
 "nbformat_minor": 1
}
