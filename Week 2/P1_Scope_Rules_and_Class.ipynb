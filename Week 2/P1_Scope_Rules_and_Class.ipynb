{
 "cells": [
  {
   "cell_type": "markdown",
   "metadata": {},
   "source": [
    "# Week 2\n",
    "## Part 1: Scope Rules and Classes\n",
    "### 1.1 Scope Rules\n",
    "How does Python know which update function to call or which variable x to use? The answer is that it uses so-called **\"scope rules\"** to make this determination. It searches for the object, layer by layer, moving **from inner layers towards outer layers**.\n",
    "\n",
    "The acronym of the scope rule is **LEGB**.\n",
    " * **L** stands for ***\"local\"*** -> *Local is the current function you're in.*\n",
    " * **E** stands for ***\"enclosing function\"*** -> *Enclosing function is the function that called the current function, if any.*\n",
    " * **G** for ***\"global\"*** -> *Global refers to the module in which the function was defined.*\n",
    " * **B** stands for ***\"built-in\"*** -> *Built-in refers to Python's built-in namespace.*"
   ]
  },
  {
   "cell_type": "code",
   "execution_count": 3,
   "metadata": {
    "collapsed": false
   },
   "outputs": [
    {
     "name": "stdout",
     "output_type": "stream",
     "text": [
      "main: 1 [0, 1, 2, 3]\n",
      "Update: 2 [0, 1, 2, 3, 4]\n",
      "main: 1 [0, 1, 2, 3, 4]\n"
     ]
    }
   ],
   "source": [
    "# Example\n",
    "def update(n, x):\n",
    "    n = 2\n",
    "    x.append(4)\n",
    "    print(\"Update:\", n, x) \n",
    "    \n",
    "def main():\n",
    "    n = 1\n",
    "    x = [0,1,2,3]\n",
    "    print('main:', n, x)\n",
    "    update(n,x)\n",
    "    print('main:', n, x)\n",
    "    \n",
    "main()"
   ]
  },
  {
   "cell_type": "markdown",
   "metadata": {},
   "source": [
    "### 1.2 Classes and Object-Oriented Programming\n",
    "In general, an object consists of both internal data and methods that perform operations on the data. We have actually been using objects and methods all along, such as when working with building types like lists and dictionaries. You may find at some point that an existing object type doesn't fully suit your needs, in which case you can create a new type of object known as a **class.**\n",
    "\n",
    "Often it is the case that even if you need to create a new object type, it is likely that this new object type resembles, in some way, an existing one. This brings us to inheritance, which is a fundamental aspect of object-oriented programming. **Inheritance** means that you can ***define a new object type, a new class, that inherits properties from an existing object\n",
    "type.***\n",
    "\n",
    "When ***an object of a particular type is created***, that object is sometimes called an **\"Instance\"** of that type. So another way to state what I just said is that the class statement doesn't create any instances of the class."
   ]
  },
  {
   "cell_type": "code",
   "execution_count": 6,
   "metadata": {
    "collapsed": false
   },
   "outputs": [
    {
     "name": "stdout",
     "output_type": "stream",
     "text": [
      "function support for y: ['__add__', '__class__', '__contains__', '__delattr__', '__delitem__', '__dict__', '__dir__', '__doc__', '__eq__', '__format__', '__ge__', '__getattribute__', '__getitem__', '__gt__', '__hash__', '__iadd__', '__imul__', '__init__', '__iter__', '__le__', '__len__', '__lt__', '__module__', '__mul__', '__ne__', '__new__', '__reduce__', '__reduce_ex__', '__repr__', '__reversed__', '__rmul__', '__setattr__', '__setitem__', '__sizeof__', '__str__', '__subclasshook__', '__weakref__', 'append', 'clear', 'copy', 'count', 'extend', 'index', 'insert', 'pop', 'remove', 'remove_max', 'remove_min', 'reverse', 'sort']\n",
      "[1, 2, 3, 4, 5, 6]\n",
      "[1, 2, 3, 4, 5]\n"
     ]
    }
   ],
   "source": [
    "class MyList(list):\n",
    "    def remove_min(self):\n",
    "        self.remove(min(self))\n",
    "    def remove_max(self):\n",
    "        self.remove(max(self))\n",
    "        \n",
    "x = [0,1,2,3,4,5,6]\n",
    "y = MyList(x)\n",
    "print('Function support for y:', dir(y))\n",
    "y.remove_min()\n",
    "print(y)\n",
    "y.remove_max()\n",
    "print(y)"
   ]
  }
 ],
 "metadata": {
  "anaconda-cloud": {},
  "kernelspec": {
   "display_name": "Python [conda env:py3]",
   "language": "python",
   "name": "conda-env-py3-py"
  },
  "language_info": {
   "codemirror_mode": {
    "name": "ipython",
    "version": 3
   },
   "file_extension": ".py",
   "mimetype": "text/x-python",
   "name": "python",
   "nbconvert_exporter": "python",
   "pygments_lexer": "ipython3",
   "version": "3.5.2"
  }
 },
 "nbformat": 4,
 "nbformat_minor": 1
}
