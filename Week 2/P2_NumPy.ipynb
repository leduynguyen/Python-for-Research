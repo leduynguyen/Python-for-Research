{
 "cells": [
  {
   "cell_type": "markdown",
   "metadata": {},
   "source": [
    "# Week 2\n",
    "## Part 2: NumPy\n",
    "NumPy is a Python module designed for scientific computation. NumPy has several very useful features. NumPy also provides many useful tools to help you perform linear algebra, generate random numbers and much, much more. More information about [numpy](numpy.org).\n",
    "### 2.1 Introduction to NumPy Arrays\n",
    "NumPy arrays are an additional data type provided by NumPy, and they are used for representing *vectors and matrices*. NumPy arrays are n-dimensional array objects and they are a core component of scientific and numerical computation in Python.\n",
    "\n",
    "Unlike dynamically growing Python lists, NumPy arrays have a ***size that is fixed*** when they are constructed. ***Elements of NumPy arrays are also all of the same data type*** leading to more efficient and simpler code than using Python's standard data types. By default, the elements are floating point numbers.\n",
    "\n",
    "We can also construct NumPy arrays using specified values, in which case, we use the np.array function, and the input argument to the function is a sequence of numbers, typically a list of numbers."
   ]
  },
  {
   "cell_type": "code",
   "execution_count": 44,
   "metadata": {
    "collapsed": false
   },
   "outputs": [
    {
     "name": "stdout",
     "output_type": "stream",
     "text": [
      "Using zeros function in numpy\n",
      "[ 0.  0.  0.  0.  0.]\n",
      "[[ 0.  0.  0.]\n",
      " [ 0.  0.  0.]\n",
      " [ 0.  0.  0.]\n",
      " [ 0.  0.  0.]\n",
      " [ 0.  0.  0.]]\n",
      "Using ones function in numpy\n",
      "[ 1.  1.  1.  1.  1.]\n",
      "[[ 0.  0.  0.]\n",
      " [ 0.  0.  0.]]\n",
      "Create an array with specific number\n",
      "[1 2 3 4]\n",
      "[2 4 6 8]\n",
      "[[1 2 3]\n",
      " [4 5 6]]\n",
      "Transpose a matrix\n",
      "[[1 4]\n",
      " [2 5]\n",
      " [3 6]]\n"
     ]
    }
   ],
   "source": [
    "# Example 1\n",
    "import numpy as np\n",
    "\n",
    "print(\"Using zeros function in numpy\")\n",
    "# Create a vector has 5 elements are zero\n",
    "zero_vetor = np.zeros(5)\n",
    "print(zero_vetor)\n",
    "\n",
    "# Create a matrix has 5 rows, 3 column are zero\n",
    "zero_matrix = np.zeros((5,3))\n",
    "print(zero_matrix)\n",
    "\n",
    "print(\"Using ones function in numpy\")\n",
    "# Create a vector has 5 elements are one\n",
    "one_vector = np.ones(5)\n",
    "print(one_vector)\n",
    "\n",
    "# Create a empty matrix without initialize\n",
    "empty_matrix = np.empty((2,3))\n",
    "print(empty_matrix)\n",
    "\n",
    "print(\"Create an array with specific number\")\n",
    "# Create an array with specific value\n",
    "x = [1,2,3,4]\n",
    "y = [2,4,6,8]\n",
    "x_vector = np.array(x)\n",
    "y_vector = np.array(y)\n",
    "\n",
    "print(x_vector)\n",
    "print(y_vector)\n",
    "\n",
    "# Create an matrix\n",
    "X = np.array([[1,2,3],[4,5,6]])\n",
    "print(X)\n",
    "\n",
    "# Transpose the matrix X\n",
    "print(\"Transpose a matrix\")\n",
    "print(X.transpose())"
   ]
  },
  {
   "cell_type": "markdown",
   "metadata": {},
   "source": [
    "### 2.2 Slicing NumPy Arrays\n",
    "It's easy to index and slice NumPy arrays regardless of their dimension, meaning whether they are vectors or matrices. With one-dimension arrays, we can ***index a given element by its position***, keeping in mind that indices start at 0.\n",
    "\n",
    "With two-dimensional arrays, ***the first index specifies the row of the array*** and ***the second index specifies the column of the array***. This is exactly the way we would index elements of a matrix in linear algebra.\n",
    "\n",
    "We can also slice NumPy arrays. Remember the indexing logic. Start index is included but stop index is not, meaning that Python stops before it hits the stop index.\n",
    "\n",
    "With multi-dimensional arrays, you can use the ***colon character in place of a fixed value for an index***, which means that the array elements corresponding to all values of that particular index will be returned.\n",
    "\n"
   ]
  },
  {
   "cell_type": "code",
   "execution_count": 45,
   "metadata": {
    "collapsed": false
   },
   "outputs": [
    {
     "name": "stdout",
     "output_type": "stream",
     "text": [
      "Vector x [1 3 5]\n",
      "Vector y [2 4 6]\n",
      "Matrix X:\n",
      "[[1 2 3]\n",
      " [4 5 6]]\n",
      "Matrix Y:\n",
      "[[2 4 6]\n",
      " [1 3 5]]\n",
      "3rd element in vector x x[2]: 5\n",
      "The first colum of matrix X X[:,0]:\n",
      "[1 4]\n",
      "The first row of matrix Y Y[0,:]:\n",
      "[2 4 6]\n",
      "Slicing array from 0 to 2 of y, y[0:2]\n",
      "[2 4]\n",
      "Adding 2 arrays\n",
      "[ 3  7 11]\n",
      "Adding 2 columns at 3rd\n",
      "[ 9 11]\n",
      "Adding 2 rows at 2nd\n",
      "[ 5  8 11]\n",
      "Adding 2 lists [2,3]+[4,5]-> [2, 3, 4, 5]\n",
      "Adding 2 arrays np.array([2,3]) + np.array([4,5]) -> [6 8]\n"
     ]
    }
   ],
   "source": [
    "import numpy as np\n",
    "\n",
    "x = np.array([1,3,5])\n",
    "y = np.array([2,4,6])\n",
    "\n",
    "X = np.array([[1,2,3],[4,5,6]])\n",
    "Y = np.array([[2,4,6],[1,3,5]])\n",
    "\n",
    "# Vector and matrix\n",
    "print(\"Vector x\", x)\n",
    "print(\"Vector y\", y)\n",
    "print(\"Matrix X:\")\n",
    "print(X)\n",
    "print(\"Matrix Y:\")\n",
    "print(Y)\n",
    "\n",
    "# Access single element in array\n",
    "print(\"3rd element in vector x x[2]:\", x[2])\n",
    "\n",
    "# Access the column\n",
    "print(\"The first colum of matrix X X[:,0]:\")\n",
    "print(X[:,0])\n",
    "\n",
    "# Access the row\n",
    "print(\"The first row of matrix Y Y[0,:]:\")\n",
    "print(Y[0,:])\n",
    "\n",
    "# Slicing the array\n",
    "print(\"Slicing array from 0 to 2 of y, y[0:2]\")\n",
    "print(y[0:2])\n",
    "\n",
    "# Add 2 array\n",
    "z = x+y\n",
    "print(\"Adding 2 arrays\")\n",
    "print(z)\n",
    "\n",
    "# Add 2 columns or rows\n",
    "print(\"Adding 2 columns at 3rd\")\n",
    "print(Y[:,2]+X[:,2])\n",
    "print(\"Adding 2 rows at 2nd\")\n",
    "print(Y[1,:]+X[1,:])\n",
    "\n",
    "# Attention\n",
    "print(\"Adding 2 lists [2,3]+[4,5]->\", [2,3]+[4,5])\n",
    "print(\"Adding 2 arrays np.array([2,3]) + np.array([4,5]) ->\", np.array([2,3])+np.array([4,5]))"
   ]
  },
  {
   "cell_type": "markdown",
   "metadata": {},
   "source": [
    "### 2.3 Indexing NumPy Arrays\n",
    "* NumPy arrays can also be indexed with other arrays or other sequence-like objects like lists."
   ]
  },
  {
   "cell_type": "code",
   "execution_count": 46,
   "metadata": {
    "collapsed": false
   },
   "outputs": [
    {
     "name": "stdout",
     "output_type": "stream",
     "text": [
      "z1 -> [1 3 5 7 9]\n",
      "z2 -> [ 2  4  6  8 10]\n",
      "value with index is a list [1 5 7]\n",
      "value with index is a array [1 5 7]\n"
     ]
    }
   ],
   "source": [
    "z1 = np.array([1,3,5,7,9])\n",
    "z2 = z1+1\n",
    "print(\"z1 ->\", z1)\n",
    "print(\"z2 ->\", z2)\n",
    "\n",
    "ind=[0,2,3]\n",
    "print(\"value with index is a list\", z1[ind])\n",
    "print(\"value with index is a array\", z1[np.array(ind)])"
   ]
  },
  {
   "cell_type": "markdown",
   "metadata": {},
   "source": [
    "* NumPy arrays can also be indexed using logical indices."
   ]
  },
  {
   "cell_type": "code",
   "execution_count": 47,
   "metadata": {
    "collapsed": false
   },
   "outputs": [
    {
     "name": "stdout",
     "output_type": "stream",
     "text": [
      "index boolean [False False False  True  True]\n",
      "value in z1 that greater 6 [7 9]\n"
     ]
    }
   ],
   "source": [
    "import numpy as np\n",
    "z1 = np.array([1,3,5,7,9])\n",
    "\n",
    "ind = z1>6\n",
    "print(\"index boolean\", ind)\n",
    "print(\"value in z1 that greater 6\", z1[ind])"
   ]
  },
  {
   "cell_type": "markdown",
   "metadata": {},
   "source": [
    "* When you slice an array using the colon operator, you get a view of the object. This means that if you modify it, the original array will also be modified. This is in contrast with what happens when you index an array, in which case what is returned to you is a copy of the original data.\n",
    "\n",
    "**In summary, for all cases of indexed arrays, what is returned is a copy of the original data, not a view as one gets for slices.**"
   ]
  },
  {
   "cell_type": "code",
   "execution_count": 48,
   "metadata": {
    "collapsed": false
   },
   "outputs": [
    {
     "name": "stdout",
     "output_type": "stream",
     "text": [
      "Value of w [2 3]\n",
      "Value of z1 changes\n",
      "Value of z1 [2 3 5 7 9]\n"
     ]
    }
   ],
   "source": [
    "# Example using slicing approach\n",
    "import numpy as np\n",
    "z1 = np.array([1,3,5,7,9])\n",
    "\n",
    "# Create an array by sliding the z1\n",
    "w = z1[0:2]\n",
    "# Modify the first value\n",
    "w[0] = 2\n",
    "\n",
    "print(\"Value of w\", w)\n",
    "print(\"Value of z1 changes\")\n",
    "print(\"Value of z1\", z1)"
   ]
  },
  {
   "cell_type": "code",
   "execution_count": 49,
   "metadata": {
    "collapsed": false
   },
   "outputs": [
    {
     "name": "stdout",
     "output_type": "stream",
     "text": [
      "Value of w [2 3 5]\n",
      "Value of z1 doesn't change\n",
      "Value of z1 [1 3 5 7 9]\n"
     ]
    }
   ],
   "source": [
    "# Example using index array approach\n",
    "import numpy as np\n",
    "z1 = np.array([1,3,5,7,9])\n",
    "\n",
    "# Create an array by using index\n",
    "ind = np.array([0,1,2])\n",
    "w = z1[ind]\n",
    "# Modify the first value\n",
    "w[0] = 2\n",
    "\n",
    "print(\"Value of w\", w)\n",
    "print(\"Value of z1 doesn't change\")\n",
    "print(\"Value of z1\", z1)"
   ]
  },
  {
   "cell_type": "markdown",
   "metadata": {},
   "source": [
    "### 2.4 Building and Examining NumPy Arrays\n",
    "NumPy provides a couple of ways to construct arrays with fixed, start, and end values, such that the other elements are uniformly spaced between them. \n",
    " * To construct a linearly spaced array element, NumPy provide **linspace** function.\n",
    " * To construct a logarithmically spaced array element, NumPy provide **logspace** function. *(first argument that goes into logspace is going to be the log of the starting point. The second argument is log of the endpoint of the array. And the third argument as before, is the number of elements in our array.)*"
   ]
  },
  {
   "cell_type": "code",
   "execution_count": 50,
   "metadata": {
    "collapsed": false
   },
   "outputs": [
    {
     "name": "stdout",
     "output_type": "stream",
     "text": [
      "Linear array with starting point:0, ending point:100, number of points:20\n",
      "[   1.            6.21052632   11.42105263   16.63157895   21.84210526\n",
      "   27.05263158   32.26315789   37.47368421   42.68421053   47.89473684\n",
      "   53.10526316   58.31578947   63.52631579   68.73684211   73.94736842\n",
      "   79.15789474   84.36842105   89.57894737   94.78947368  100.        ]\n",
      "Logarit array with starting point:10, ending point:100, number of points:10\n",
      "[  10.           12.91549665   16.68100537   21.5443469    27.82559402\n",
      "   35.93813664   46.41588834   59.94842503   77.42636827  100.        ]\n"
     ]
    }
   ],
   "source": [
    "# Example 1\n",
    "import numpy as np\n",
    "\n",
    "# Create a linear space array -> starting point:0, ending point:100, number of points: 20\n",
    "linear_array = np.linspace(1,100,20)\n",
    "print(\"Linear array with starting point:0, ending point:100, number of points:20\")\n",
    "print(linear_array)\n",
    "\n",
    "# Create a log space element array -> starting point is 10 -> log(10)=1, ending point is 100 -> log(100)=2\n",
    "logarit_array = np.logspace(1,2, 10)\n",
    "print(\"Logarit array with starting point:10, ending point:100, number of points:10\")\n",
    "print(logarit_array)"
   ]
  },
  {
   "cell_type": "code",
   "execution_count": 51,
   "metadata": {
    "collapsed": false
   },
   "outputs": [
    {
     "name": "stdout",
     "output_type": "stream",
     "text": [
      "[ 250.          270.01493472  291.63225989  314.98026247  340.19750004\n",
      "  367.43362307  396.85026299  428.62199143  462.93735614  500.        ]\n"
     ]
    }
   ],
   "source": [
    "# Example2: Construct array of ten logarithmically spaced elements between numbers say 250 and 500. \n",
    "import numpy as np\n",
    "array_log = np.logspace(np.log10(250), np.log10(500), 10)\n",
    "print(array_log)"
   ]
  },
  {
   "cell_type": "markdown",
   "metadata": {},
   "source": [
    "Often we need to know ***the shape of an array or the number of elements in an array***. You can check the shape of an array using shape. Using **shape and size** attributes *(not methods of the arrays.)*"
   ]
  },
  {
   "cell_type": "code",
   "execution_count": 52,
   "metadata": {
    "collapsed": false
   },
   "outputs": [
    {
     "name": "stdout",
     "output_type": "stream",
     "text": [
      "Shape of array (2, 3)\n",
      "Size of array ~ Number of element in array: 6\n"
     ]
    }
   ],
   "source": [
    "# Example 3:\n",
    "import numpy as np\n",
    "\n",
    "X = np.array([[1,2,3],[7,8,9]])\n",
    "print(\"Shape of array\", X.shape)\n",
    "print(\"Size of array ~ Number of element in array:\", X.size)"
   ]
  },
  {
   "cell_type": "markdown",
   "metadata": {},
   "source": [
    "* NumPy has its own random module. And in this case, we're going to be generating 10 random numbers drawn from the standard uniform distribution, meaning from the interval from 0 to 1."
   ]
  },
  {
   "cell_type": "code",
   "execution_count": 53,
   "metadata": {
    "collapsed": false
   },
   "outputs": [
    {
     "name": "stdout",
     "output_type": "stream",
     "text": [
      "x random\n",
      "[ 0.02171387  0.34443211  0.26453677  0.32079737  0.93452337  0.92240021\n",
      "  0.17435047  0.7667911   0.28433182  0.86428484]\n",
      "Any value in x_random > 0.9 True\n",
      "All value in x_random > 0.1 False\n"
     ]
    }
   ],
   "source": [
    "# Example 4:\n",
    "import numpy as np\n",
    "\n",
    "x_random = np.random.random(10)\n",
    "print(\"x random\")\n",
    "print(x_random)\n",
    "print(\"Any value in x_random > 0.9\", np.any(x_random>0.9))\n",
    "print(\"All value in x_random > 0.1\", np.all(x_random>0.1))"
   ]
  }
 ],
 "metadata": {
  "anaconda-cloud": {},
  "kernelspec": {
   "display_name": "Python [conda env:py3]",
   "language": "python",
   "name": "conda-env-py3-py"
  },
  "language_info": {
   "codemirror_mode": {
    "name": "ipython",
    "version": 3
   },
   "file_extension": ".py",
   "mimetype": "text/x-python",
   "name": "python",
   "nbconvert_exporter": "python",
   "pygments_lexer": "ipython3",
   "version": "3.5.2"
  }
 },
 "nbformat": 4,
 "nbformat_minor": 1
}
