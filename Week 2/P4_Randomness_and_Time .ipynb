{
 "cells": [
  {
   "cell_type": "markdown",
   "metadata": {},
   "source": [
    "# Week 2\n",
    "## Part 4: Randomness and Time \n",
    "### 4.1 Simulating Randomness\n",
    "In addition to phenomena that are genuinely random, we often use **randomness** when modeling complicated systems to abstract away those aspects of the phenomenon for which we do not have useful simple models. In other words, we try to model those parts of a process that we can explain in relatively simple terms, and we assume, true or not, that the rest is noise. To put this differently, we model what we can, and whatever it happens to be left out, we attribute to randomness.\n",
    "\n",
    "*Example 1:* Use the random choice function to carry out perhaps the simplest random process - the flip of a single coin."
   ]
  },
  {
   "cell_type": "code",
   "execution_count": null,
   "metadata": {
    "collapsed": true
   },
   "outputs": [],
   "source": []
  },
  {
   "cell_type": "code",
   "execution_count": 1,
   "metadata": {
    "collapsed": false
   },
   "outputs": [
    {
     "name": "stdout",
     "output_type": "stream",
     "text": [
      "Tail\n"
     ]
    }
   ],
   "source": [
    "# Examaple 1:\n",
    "import random\n",
    "\n",
    "print(random.choice([\"Head\", \"Tail\"]))"
   ]
  },
  {
   "cell_type": "markdown",
   "metadata": {},
   "source": [
    "*Example 2:* Simulate the role of a die - the outcome of a die is an integer between 1 and 6."
   ]
  },
  {
   "cell_type": "code",
   "execution_count": 2,
   "metadata": {
    "collapsed": false
   },
   "outputs": [
    {
     "name": "stdout",
     "output_type": "stream",
     "text": [
      "Random of the die: 4\n"
     ]
    }
   ],
   "source": [
    "import random\n",
    "\n",
    "print(\"Random of the die:\", random.choice([1,2,3,4,5,6]))"
   ]
  },
  {
   "cell_type": "markdown",
   "metadata": {},
   "source": [
    "*Example 3:* Imagine a situation where you have three dice, one of them having six faces, one of them having eight faces, and one of them having ten faces. How could you simulate one outcome for a process, where one of these dice, chosen uniformly at random, is rolled just one time?"
   ]
  },
  {
   "cell_type": "code",
   "execution_count": 3,
   "metadata": {
    "collapsed": false
   },
   "outputs": [
    {
     "name": "stdout",
     "output_type": "stream",
     "text": [
      "range(1, 7)\n",
      "4\n"
     ]
    }
   ],
   "source": [
    "import random\n",
    "\n",
    "print(random.choice([range(1,7), range(1,9), range(1,11)]))\n",
    "print(random.choice(random.choice([range(1,7), range(1,9), range(1,11)])))"
   ]
  },
  {
   "cell_type": "markdown",
   "metadata": {},
   "source": [
    "### 4.2 Examples Involving Randomness"
   ]
  },
  {
   "cell_type": "markdown",
   "metadata": {
    "collapsed": true
   },
   "source": [
    "* **Example 1:**\n",
    "\n",
    "Roll the die 100 times and plot a histogram of the outcomes, meaning a histogram that shows how frequent the numbers from 1 to 6 appeared in the 100 samples. Your observations will be integers between 1 and 6. We will simulate the die using the random module. And plot the histogram using the plt.hist function."
   ]
  },
  {
   "cell_type": "code",
   "execution_count": 2,
   "metadata": {
    "collapsed": false,
    "scrolled": true
   },
   "outputs": [
    {
     "data": {
      "image/png": "[encoded data removed]",
      "text/plain": [
       "<matplotlib.figure.Figure at 0x191ff8624e0>"
      ]
     },
     "metadata": {},
     "output_type": "display_data"
    }
   ],
   "source": [
    "import random\n",
    "import numpy as np\n",
    "import matplotlib.pyplot as plt\n",
    "\n",
    "# Init the roll\n",
    "rolls = []\n",
    "\n",
    "# Roll in 100 times\n",
    "for i in range(100):\n",
    "    rolls.append(random.choice([1,2,3,4,5,6]))\n",
    "    \n",
    "# Plot the histogram\n",
    "plt.hist(rolls, bins=np.linspace(0.5, 6.5, 7))\n",
    "plt.show()"
   ]
  },
  {
   "cell_type": "markdown",
   "metadata": {},
   "source": [
    "* **Example 2: Law of Large Numbers.**\n",
    "\n",
    "Repeat the above example but with 10.000 times to se the different result with the law of the large numbers."
   ]
  },
  {
   "cell_type": "code",
   "execution_count": 6,
   "metadata": {
    "collapsed": false
   },
   "outputs": [
    {
     "data": {
      "image/png": "[encoded data removed]",
      "text/plain": [
       "<matplotlib.figure.Figure at 0x191811345f8>"
      ]
     },
     "metadata": {},
     "output_type": "display_data"
    }
   ],
   "source": [
    "import random\n",
    "import numpy as np\n",
    "import matplotlib.pyplot as plt\n",
    "\n",
    "# Init the rolls\n",
    "rolls = []\n",
    "\n",
    "# Roll 10.000 times\n",
    "for i in range(10000):\n",
    "    rolls.append(random.choice([1,2,3,4,5,6]))\n",
    "    \n",
    "# Plot the histogram\n",
    "plt.hist(rolls, bins=np.linspace(0.5,6.5,7))\n",
    "plt.show()"
   ]
  },
  {
   "cell_type": "markdown",
   "metadata": {},
   "source": [
    "**Example 3**\n",
    "\n",
    "Roll 10 independent dices and see the central limit theorem.\n",
    "\n",
    "We can sum together many random variables whose distribution is nothing like a normal distribution like die rolls, or even coin flips. And the distribution of the sum will get closer and closer to a normal distribution as the number of random variables that are added together increases.\n",
    "\n",
    "> **Central Limit Theorem (CLT)** : The sum of a large number of random variables regardless of their distribution will approximately follow a normal distribution."
   ]
  },
  {
   "cell_type": "code",
   "execution_count": 3,
   "metadata": {
    "collapsed": false
   },
   "outputs": [
    {
     "data": {
      "image/png": "[encoded data removed]",
      "text/plain": [
       "<matplotlib.figure.Figure at 0x258530ea4e0>"
      ]
     },
     "metadata": {},
     "output_type": "display_data"
    }
   ],
   "source": [
    "import random\n",
    "import matplotlib.pyplot as plt\n",
    "\n",
    "ys = []\n",
    "\n",
    "for i in range(100000):\n",
    "    y = 0\n",
    "    for k in range(10):\n",
    "        x = random.choice([1,2,3,4,5,6])\n",
    "        y = y+x\n",
    "    ys.append(y)\n",
    "    \n",
    "plt.hist(ys)\n",
    "plt.show()"
   ]
  },
  {
   "cell_type": "markdown",
   "metadata": {},
   "source": [
    "### 4.3 Using the NumPy Random Module"
   ]
  },
  {
   "cell_type": "markdown",
   "metadata": {
    "collapsed": true
   },
   "source": [
    "Different example for different type of random generation"
   ]
  },
  {
   "cell_type": "code",
   "execution_count": 9,
   "metadata": {
    "collapsed": false
   },
   "outputs": [
    {
     "name": "stdout",
     "output_type": "stream",
     "text": [
      "0.9232935109090624\n",
      "[ 0.91415974  0.06007413  0.63167892  0.49551414  0.0710323 ]\n",
      "[[ 0.09627143  0.28650691  0.5160525 ]\n",
      " [ 0.50397154  0.42172601  0.55174047]\n",
      " [ 0.64442957  0.37596553  0.15980943]\n",
      " [ 0.36257884  0.72677093  0.63457646]\n",
      " [ 0.06710978  0.06071559  0.3132546 ]]\n",
      "-0.8232211374413646\n",
      "[ 1.0782273   1.90129066 -1.81966015  0.32642754 -0.4052326 ]\n",
      "[[ 0.18668273 -0.93227923 -1.50333533]\n",
      " [ 0.17138063 -0.72830696 -1.01127373]\n",
      " [ 2.31489041 -0.91162454  0.13651922]\n",
      " [-1.90176104 -1.95783331 -1.28642902]\n",
      " [-0.27120892  0.57661725 -1.37111896]]\n",
      "4\n",
      "[[6 6 6 6 6]\n",
      " [2 4 2 2 5]\n",
      " [4 2 1 2 4]]\n",
      "[[8 4 1]\n",
      " [5 9 5]\n",
      " [2 8 1]\n",
      " [7 5 9]\n",
      " [2 4 2]]\n",
      "72\n",
      "[24 30 18]\n",
      "[13 19 11 21  8]\n"
     ]
    },
    {
     "data": {
      "image/png": "[encoded data removed]",
      "text/plain": [
       "<matplotlib.figure.Figure at 0x2883d350240>"
      ]
     },
     "metadata": {},
     "output_type": "display_data"
    }
   ],
   "source": [
    "import numpy as np\n",
    "import matplotlib.pyplot as plt\n",
    "\n",
    "# Random an 0-1 uniform distribution \n",
    "print(np.random.random())\n",
    "\n",
    "# Generate 1D array of 5 random numbers\n",
    "print(np.random.random(5))\n",
    "\n",
    "# Generate 2D array with 5 rows, 3 columns\n",
    "print(np.random.random((5,3)))\n",
    "\n",
    "# Generate the random number from standard normal distribution,\n",
    "# with mean = 0 for 1st argument and standard deviation = 1 for 2nd argument\n",
    "print(np.random.normal(0, 1))\n",
    "\n",
    "# Same as above but with 1D array\n",
    "print(np.random.normal(0, 1, 5))\n",
    "\n",
    "# Same as above but with 2D array 5 rows, 3 columns\n",
    "print(np.random.normal(0, 1, (5,3)))\n",
    "\n",
    "# Random an integer number from 1 to 7\n",
    "print(np.random.randint(1, 7))\n",
    "\n",
    "# Random integer number for an table 3 rows, 5 colums from 1 to 7\n",
    "print(np.random.randint(1, 7, (3,5)))\n",
    "\n",
    "# Sum the array\n",
    "X = np.random.randint(1,10, (5,3))\n",
    "print(X)\n",
    "# Sum all the array\n",
    "print(np.sum(X))\n",
    "# Sum all rows\n",
    "print(np.sum(X, axis=0))\n",
    "# Sum all columns\n",
    "print(np.sum(X, axis=1))\n",
    "\n",
    "# Histogram\n",
    "X = np.random.randint(1, 7, (1000,50))\n",
    "Y = np.sum(X, axis=1)\n",
    "plt.hist(Y)\n",
    "plt.show()"
   ]
  },
  {
   "cell_type": "markdown",
   "metadata": {},
   "source": [
    "### 4.4 Measuring Time\n"
   ]
  },
  {
   "cell_type": "code",
   "execution_count": 9,
   "metadata": {
    "collapsed": false
   },
   "outputs": [
    {
     "name": "stdout",
     "output_type": "stream",
     "text": [
      "0.09803167911718447\n"
     ]
    }
   ],
   "source": [
    "import time\n",
    "\n",
    "# Init x to store random numbers\n",
    "x = []\n",
    "\n",
    "# Start time to measure\n",
    "str_time = time.clock()\n",
    "#str_time = time.time()\n",
    "\n",
    "for i in range(10000):\n",
    "    x.append(random.choice([1,2,3,4,5,6,7,8,9]))\n",
    "\n",
    "# Ending point to measure the time    \n",
    "end_time = time.clock()\n",
    "#end_time = time.time()\n",
    "\n",
    "# Different time \n",
    "print(end_time - str_time)"
   ]
  },
  {
   "cell_type": "code",
   "execution_count": 11,
   "metadata": {
    "collapsed": false
   },
   "outputs": [
    {
     "name": "stdout",
     "output_type": "stream",
     "text": [
      "0.004001617431640625\n"
     ]
    }
   ],
   "source": [
    "import time\n",
    "import numpy as np\n",
    "\n",
    "# Start time to measure\n",
    "str_time = time.time()\n",
    "\n",
    "X = np.random.randint(1,7, (10000, 10))\n",
    "y = np.sum(X, axis=1)\n",
    "\n",
    "# Ending point to measure the time    \n",
    "end_time = time.time()\n",
    "\n",
    "# Different time \n",
    "print(end_time - str_time)"
   ]
  },
  {
   "cell_type": "markdown",
   "metadata": {},
   "source": [
    "### 4.5 Random Walks\n",
    "Be used to model random movement of modelcules.\n",
    "X(t=k) = X0 + Delta(t=1) + ... + Delta(t=k)\n",
    "\n",
    "* **Example**\n",
    "\n",
    "Coding up random walker in NumPy. Start at the origin, take 100 steps, and where each step is sampled from the standard normal distribution. The normal distribution having mean 0 and standard deviation equal to 1. We assume the x displacement and the y displacement for any given step are independent."
   ]
  },
  {
   "cell_type": "code",
   "execution_count": 12,
   "metadata": {
    "collapsed": false
   },
   "outputs": [
    {
     "data": {
      "image/png": "[encoded data removed]",
      "text/plain": [
       "<matplotlib.figure.Figure at 0x2883d6ab0b8>"
      ]
     },
     "metadata": {},
     "output_type": "display_data"
    }
   ],
   "source": [
    "import numpy as np\n",
    "import matplotlib.pyplot as plt\n",
    "\n",
    "# Init the origin point\n",
    "X_0 = np.array([[0], [0]])\n",
    "\n",
    "# Generate the random for random walk model with 100 steps\n",
    "delta_X = np.random.normal(0, 1, (2,100))\n",
    "\n",
    "# Cumulative sum over the columns\n",
    "X_cum = np.cumsum(delta_X, axis=1)\n",
    "\n",
    "# Concate with the origin point X_0\n",
    "X = np.concatenate((X_0, X_cum), axis=1)\n",
    "\n",
    "plt.plot(X[0], X[1], \"ro-\")\n",
    "plt.savefig(\"RandomWalk.pdf\")\n",
    "plt.show()"
   ]
  }
 ],
 "metadata": {
  "anaconda-cloud": {},
  "kernelspec": {
   "display_name": "Python [conda root]",
   "language": "python",
   "name": "conda-root-py"
  },
  "language_info": {
   "codemirror_mode": {
    "name": "ipython",
    "version": 3
   },
   "file_extension": ".py",
   "mimetype": "text/x-python",
   "name": "python",
   "nbconvert_exporter": "python",
   "pygments_lexer": "ipython3",
   "version": "3.5.2"
  }
 },
 "nbformat": 4,
 "nbformat_minor": 1
}
