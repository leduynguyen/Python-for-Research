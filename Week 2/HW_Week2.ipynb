{
 "cells": [
  {
   "cell_type": "markdown",
   "metadata": {},
   "source": [
    "# Homework - Week 2#\n",
    "Tic-tac-toe (or noughts and crosses) is a simple strategy game in which two players take turns placing a mark on a 3x3 board, attempting to make a row, column, or diagonal of three with their mark. In this homework, we will use the tools we've covered in the past two weeks to create a tic-tac-toe simulator, and evaluate basic winning strategies."
   ]
  },
  {
   "cell_type": "markdown",
   "metadata": {},
   "source": [
    "* **Exercise 1**\n",
    "\n",
    "For our tic-tac-toe board, we will use a numpy array with dimension 3 by 3. \n",
    "\n",
    "Make a function **create_board()** that creates such a board, with values of integers 0.\n",
    "\n",
    "Call create_board(), and store this as board."
   ]
  },
  {
   "cell_type": "code",
   "execution_count": 73,
   "metadata": {
    "collapsed": false
   },
   "outputs": [
    {
     "name": "stdout",
     "output_type": "stream",
     "text": [
      "[[ 0.  0.  0.]\n",
      " [ 0.  0.  0.]\n",
      " [ 0.  0.  0.]]\n"
     ]
    }
   ],
   "source": [
    "import numpy as np\n",
    "\n",
    "def create_board():\n",
    "    return np.zeros((3,3))\n",
    "    \n",
    "board = create_board()\n",
    "print(board)"
   ]
  },
  {
   "cell_type": "markdown",
   "metadata": {},
   "source": [
    "* **Exercise 2**\n",
    "\n",
    "Players 1 and 2 will take turns changing values of this array from a 0 to a 1 or 2, indicating the number of the player who places there. \n",
    "\n",
    "Create a function **place(board, player, position)** with player being the current player (an integer 1 or 2) and position a tuple of length 2 specifying a desired location to place their marker. Only allow the current player to place a piece on the board (change the board position to their number) if that position is empty (zero).\n",
    "\n",
    "Use create_board() to store a board as board, and use place to have Player 1 place a piece on spot (0, 0)."
   ]
  },
  {
   "cell_type": "code",
   "execution_count": 74,
   "metadata": {
    "collapsed": false
   },
   "outputs": [
    {
     "name": "stdout",
     "output_type": "stream",
     "text": [
      "[[ 1.  0.  0.]\n",
      " [ 0.  0.  0.]\n",
      " [ 0.  0.  0.]]\n"
     ]
    }
   ],
   "source": [
    "import numpy as np\n",
    "\n",
    "def create_board():\n",
    "    return np.zeros((3,3))\n",
    "    \n",
    "def place(board, player, position):\n",
    "    if board[position[0]][position[1]] == 0:\n",
    "        board[position[0]][position[1]] = player\n",
    "        \n",
    "board = create_board()\n",
    "place(board, 1, (0,0))\n",
    "\n",
    "print(board)"
   ]
  },
  {
   "cell_type": "markdown",
   "metadata": {},
   "source": [
    "* **Example 3**\n",
    "\n",
    "Create a function **possibilities(board)** that returns a list of all positions (tuples) on the board that are not occupied (0). (Hint: numpy.where is a handy function that returns a list of indexes that meet a condition.)\n",
    "\n",
    "Call possibilities(board) to see what it returns!"
   ]
  },
  {
   "cell_type": "code",
   "execution_count": 75,
   "metadata": {
    "collapsed": false
   },
   "outputs": [
    {
     "name": "stdout",
     "output_type": "stream",
     "text": [
      "(array([0, 0, 1, 1, 1, 2, 2, 2], dtype=int64), array([1, 2, 0, 1, 2, 0, 1, 2], dtype=int64))\n"
     ]
    }
   ],
   "source": [
    "import numpy as np\n",
    "\n",
    "def create_board():\n",
    "    return np.zeros((3,3))\n",
    "    \n",
    "def place(board, player, position):\n",
    "    if board[position[0]][position[1]] == 0:\n",
    "        board[position[0]][position[1]] = player\n",
    "        \n",
    "def possibilities(board):\n",
    "    return np.where(board==0)\n",
    "    \n",
    "board = create_board()\n",
    "place(board, 1, (0,0))\n",
    "print(possibilities(board))"
   ]
  },
  {
   "cell_type": "markdown",
   "metadata": {
    "collapsed": true
   },
   "source": [
    "* **Exercise 4**\n",
    "\n",
    "Create a function **random_place(board, player)** that places a marker for the current player at random among all the available positions (those currently set to 0).\n",
    "\n",
    "Call random_place(board, player) to place a random marker for Player 2, and store this as board to update its value."
   ]
  },
  {
   "cell_type": "code",
   "execution_count": 76,
   "metadata": {
    "collapsed": false
   },
   "outputs": [
    {
     "name": "stdout",
     "output_type": "stream",
     "text": [
      "[[ 1.  0.  0.]\n",
      " [ 2.  0.  0.]\n",
      " [ 0.  0.  0.]]\n"
     ]
    }
   ],
   "source": [
    "import numpy as np\n",
    "\n",
    "def create_board():\n",
    "    return np.zeros((3,3))\n",
    "    \n",
    "def place(board, player, position):\n",
    "    if board[position[0]][position[1]] == 0:\n",
    "        board[position[0]][position[1]] = player\n",
    "        \n",
    "def possibilities(board):\n",
    "    return np.where(board==0)\n",
    "\n",
    "def random_place(board, player):\n",
    "    pos = possibilities(board)\n",
    "    idx = np.random.choice(range(len(pos[0])))\n",
    "    board[pos[0][idx]][pos[1][idx]] = player\n",
    "    return board\n",
    "    \n",
    "board = create_board()\n",
    "place(board, 1, (0,0))\n",
    "board = random_place(board, 2)\n",
    "print(board)"
   ]
  },
  {
   "cell_type": "markdown",
   "metadata": {},
   "source": [
    "* **Exercise 5**\n",
    "\n",
    "Use random_place(board, player) to place 3 pieces on board each for players 1 and 2.\n",
    "\n",
    "Print board to see your result."
   ]
  },
  {
   "cell_type": "code",
   "execution_count": 77,
   "metadata": {
    "collapsed": false
   },
   "outputs": [
    {
     "name": "stdout",
     "output_type": "stream",
     "text": [
      "[[ 0.  1.  1.]\n",
      " [ 0.  0.  1.]\n",
      " [ 2.  2.  2.]]\n"
     ]
    }
   ],
   "source": [
    "import numpy as np\n",
    "\n",
    "def create_board():\n",
    "    return np.zeros((3,3))\n",
    "    \n",
    "def place(board, player, position):\n",
    "    if board[position[0]][position[1]] == 0:\n",
    "        board[position[0]][position[1]] = player\n",
    "        \n",
    "def possibilities(board):\n",
    "    return np.where(board==0)\n",
    "\n",
    "def random_place(board, player):\n",
    "    pos = possibilities(board)\n",
    "    idx = np.random.choice(range(len(pos[0])))\n",
    "    board[pos[0][idx]][pos[1][idx]] = player\n",
    "    return board\n",
    "    \n",
    "board = create_board()\n",
    "for i in range(3):\n",
    "    board = random_place(board, 1)\n",
    "    board = random_place(board, 2)\n",
    "print(board)"
   ]
  },
  {
   "cell_type": "markdown",
   "metadata": {},
   "source": [
    "* **Exercise 6**\n",
    "\n",
    "Now that players may place their pieces, how will they know they've won? \n",
    "\n",
    "Make a function **row_win(board, player)** that takes the player (integer), and determines if any row consists of only their marker. Have it return True of this condition is met, and False otherwise.\n",
    "\n",
    "Call row_win to check if Player 1 has a complete row."
   ]
  },
  {
   "cell_type": "code",
   "execution_count": 78,
   "metadata": {
    "collapsed": false
   },
   "outputs": [
    {
     "name": "stdout",
     "output_type": "stream",
     "text": [
      "[[ 0.  0.  0.]\n",
      " [ 1.  1.  1.]\n",
      " [ 0.  0.  0.]]\n"
     ]
    },
    {
     "data": {
      "text/plain": [
       "True"
      ]
     },
     "execution_count": 78,
     "metadata": {},
     "output_type": "execute_result"
    }
   ],
   "source": [
    "import numpy as np\n",
    "\n",
    "def create_board():\n",
    "    return np.zeros((3,3))\n",
    "    \n",
    "def place(board, player, position):\n",
    "    if board[position[0]][position[1]] == 0:\n",
    "        board[position[0]][position[1]] = player\n",
    "        \n",
    "def possibilities(board):\n",
    "    return np.where(board==0)\n",
    "\n",
    "def random_place(board, player):\n",
    "    pos = possibilities(board)\n",
    "    idx = np.random.choice(range(len(pos[0])))\n",
    "    board[pos[0][idx]][pos[1][idx]] = player\n",
    "    return board\n",
    "    \n",
    "def row_win(board, player):\n",
    "    row, col = board.shape\n",
    "    for i in range(row):\n",
    "        if( np.all(board[i,:] == player) ):\n",
    "            return True\n",
    "    return False\n",
    "\n",
    "board = create_board()\n",
    "board[1,:] = 1\n",
    "    \n",
    "print(board)\n",
    "row_win(board, 1)"
   ]
  },
  {
   "cell_type": "markdown",
   "metadata": {},
   "source": [
    "* **Exercise 7**\n",
    "\n",
    "Create a similar function **col_win(board, player)** that takes the player (integer), and determines if any column consists of only their marker. Have it return True if this condition is met, and False otherwise.\n",
    "\n",
    "Call col_win to check if Player 1 has a complete column."
   ]
  },
  {
   "cell_type": "code",
   "execution_count": 79,
   "metadata": {
    "collapsed": false
   },
   "outputs": [
    {
     "name": "stdout",
     "output_type": "stream",
     "text": [
      "[[ 0.  0.  1.]\n",
      " [ 0.  0.  1.]\n",
      " [ 0.  0.  1.]]\n"
     ]
    },
    {
     "data": {
      "text/plain": [
       "True"
      ]
     },
     "execution_count": 79,
     "metadata": {},
     "output_type": "execute_result"
    }
   ],
   "source": [
    "import numpy as np\n",
    "\n",
    "def create_board():\n",
    "    return np.zeros((3,3))\n",
    "    \n",
    "def place(board, player, position):\n",
    "    if board[position[0]][position[1]] == 0:\n",
    "        board[position[0]][position[1]] = player\n",
    "        \n",
    "def possibilities(board):\n",
    "    return np.where(board==0)\n",
    "\n",
    "def random_place(board, player):\n",
    "    pos = possibilities(board)\n",
    "    idx = np.random.choice(range(len(pos[0])))\n",
    "    board[pos[0][idx]][pos[1][idx]] = player\n",
    "    return board\n",
    "    \n",
    "def row_win(board, player):\n",
    "    row, col = board.shape\n",
    "    for i in range(row):\n",
    "        if( np.all(board[i,:] == player) ):\n",
    "            return True\n",
    "    return False\n",
    "\n",
    "def col_win(board, player):\n",
    "    row, col = board.shape\n",
    "    for i in range(col):\n",
    "        if( np.all(board[:,i] == player) ):\n",
    "            return True\n",
    "    return False\n",
    "\n",
    "board = create_board()\n",
    "board[:,2] = 1\n",
    "    \n",
    "print(board)\n",
    "col_win(board, 1)"
   ]
  },
  {
   "cell_type": "markdown",
   "metadata": {},
   "source": [
    "* **Exercise 8**\n",
    "\n",
    "Finally, create a function **diag_win(board, player)** that tests if either diagonal of the board consists of only their marker. Have it return True if this condition is met, and False otherwise.\n",
    "\n",
    "Call diag_win to check if Player 1 has a complete diagonal."
   ]
  },
  {
   "cell_type": "code",
   "execution_count": 80,
   "metadata": {
    "collapsed": false
   },
   "outputs": [
    {
     "name": "stdout",
     "output_type": "stream",
     "text": [
      "[[1 0 0]\n",
      " [0 1 0]\n",
      " [0 0 1]]\n"
     ]
    },
    {
     "data": {
      "text/plain": [
       "True"
      ]
     },
     "execution_count": 80,
     "metadata": {},
     "output_type": "execute_result"
    }
   ],
   "source": [
    "import numpy as np\n",
    "\n",
    "def create_board():\n",
    "    return np.zeros((3,3))\n",
    "    \n",
    "def place(board, player, position):\n",
    "    if board[position[0]][position[1]] == 0:\n",
    "        board[position[0]][position[1]] = player\n",
    "        \n",
    "def possibilities(board):\n",
    "    return np.where(board==0)\n",
    "\n",
    "def random_place(board, player):\n",
    "    pos = possibilities(board)\n",
    "    idx = np.random.choice(range(len(pos[0])))\n",
    "    board[pos[0][idx]][pos[1][idx]] = player\n",
    "    return board\n",
    "    \n",
    "def row_win(board, player):\n",
    "    row, col = board.shape\n",
    "    for i in range(row):\n",
    "        if( np.all(board[i,:] == player) ):\n",
    "            return True\n",
    "    return False\n",
    "\n",
    "def col_win(board, player):\n",
    "    row, col = board.shape\n",
    "    for i in range(col):\n",
    "        if( np.all(board[:,i] == player) ):\n",
    "            return True\n",
    "    return False\n",
    "\n",
    "def diag_win(board, player):\n",
    "    if np.all(board.diagonal() == player):\n",
    "        return True\n",
    "    if np.all(np.fliplr(board).diagonal() == player):\n",
    "        return True\n",
    "    return False\n",
    "       \n",
    "board = np.diag([1,1,1])\n",
    "print(board)\n",
    "diag_win(board, 1)"
   ]
  },
  {
   "cell_type": "markdown",
   "metadata": {},
   "source": [
    "* **Exercise 9**\n",
    "\n",
    "Create a function **evaluate(board)** that uses ***row_win, col_win & diag_win*** functions for both players. If one of them has won, return that player's number. If the board is full but no one has won, return -1. Otherwise, return 0.\n",
    "\n",
    "Call evaluate to see if either player has won the game yet."
   ]
  },
  {
   "cell_type": "code",
   "execution_count": 101,
   "metadata": {
    "collapsed": false
   },
   "outputs": [
    {
     "name": "stdout",
     "output_type": "stream",
     "text": [
      "[[ 2.  0.  1.]\n",
      " [ 0.  2.  1.]\n",
      " [ 1.  0.  2.]]\n"
     ]
    },
    {
     "data": {
      "text/plain": [
       "2"
      ]
     },
     "execution_count": 101,
     "metadata": {},
     "output_type": "execute_result"
    }
   ],
   "source": [
    "import numpy as np\n",
    "\n",
    "def create_board():\n",
    "    return np.zeros((3,3))\n",
    "    \n",
    "def place(board, player, position):\n",
    "    if board[position[0]][position[1]] == 0:\n",
    "        board[position[0]][position[1]] = player\n",
    "        \n",
    "def possibilities(board):\n",
    "    return np.where(board==0)\n",
    "\n",
    "def random_place(board, player):\n",
    "    pos = possibilities(board)\n",
    "    idx = np.random.choice(range(len(pos[0])))\n",
    "    board[pos[0][idx]][pos[1][idx]] = player\n",
    "    return board\n",
    "    \n",
    "def row_win(board, player):\n",
    "    row, col = board.shape\n",
    "    for i in range(row):\n",
    "        if( np.all(board[i,:] == player) ):\n",
    "            return True\n",
    "    return False\n",
    "\n",
    "def col_win(board, player):\n",
    "    row, col = board.shape\n",
    "    for i in range(col):\n",
    "        if( np.all(board[:,i] == player) ):\n",
    "            return True\n",
    "    return False\n",
    "\n",
    "def diag_win(board, player):\n",
    "    if np.all(board.diagonal() == player):\n",
    "        return True\n",
    "    if np.all(np.fliplr(board).diagonal() == player):\n",
    "        return True\n",
    "    return False\n",
    "    \n",
    "def evaluate(board):    \n",
    "    for player in [1,2]:\n",
    "        if row_win(board, player):\n",
    "            return player\n",
    "        if col_win(board, player):\n",
    "            return player\n",
    "        if diag_win(board, player):\n",
    "            return player\n",
    "    if np.all(board != 0):\n",
    "        return -1\n",
    "    else:\n",
    "        return 0\n",
    "    \n",
    "board = create_board()\n",
    "for i in range(3):\n",
    "    board = random_place(board, 1)\n",
    "    board = random_place(board, 2)\n",
    "    \n",
    "print(board)\n",
    "evaluate(board)"
   ]
  },
  {
   "cell_type": "markdown",
   "metadata": {},
   "source": [
    "* **Exercise 10**\n",
    "\n",
    "***create_board(), random_place(board, player) & evaluate(board)*** have been created from previous exercises. \n",
    "\n",
    "Create a function **play_game()** that creates a board, calls alternates between two players (beginning with Player 1), and evaluates the board for a winner after every placement. Play the game until one player wins (returning 1 or 2 to reflect the winning player) or the game is a draw (returning -1).\n",
    "\n",
    "Call play_game once."
   ]
  },
  {
   "cell_type": "code",
   "execution_count": 85,
   "metadata": {
    "collapsed": false
   },
   "outputs": [
    {
     "name": "stdout",
     "output_type": "stream",
     "text": [
      "[[ 1.  1.  2.]\n",
      " [ 2.  2.  1.]\n",
      " [ 1.  2.  1.]]\n"
     ]
    },
    {
     "data": {
      "text/plain": [
       "-1"
      ]
     },
     "execution_count": 85,
     "metadata": {},
     "output_type": "execute_result"
    }
   ],
   "source": [
    "import numpy as np\n",
    "\n",
    "def create_board():\n",
    "    return np.zeros((3,3))\n",
    "    \n",
    "def place(board, player, position):\n",
    "    if board[position[0]][position[1]] == 0:\n",
    "        board[position[0]][position[1]] = player\n",
    "        \n",
    "def possibilities(board):\n",
    "    return np.where(board==0)\n",
    "\n",
    "def random_place(board, player):\n",
    "    pos = possibilities(board)\n",
    "    idx = np.random.choice(range(len(pos[0])))\n",
    "    board[pos[0][idx]][pos[1][idx]] = player\n",
    "    return board\n",
    "    \n",
    "def row_win(board, player):\n",
    "    row, col = board.shape\n",
    "    for i in range(row):\n",
    "        if( np.all(board[i,:] == player) ):\n",
    "            return True\n",
    "    return False\n",
    "\n",
    "def col_win(board, player):\n",
    "    row, col = board.shape\n",
    "    for i in range(col):\n",
    "        if( np.all(board[:,i] == player) ):\n",
    "            return True\n",
    "    return False\n",
    "\n",
    "def diag_win(board, player):\n",
    "    if np.all(board.diagonal() == player):\n",
    "        return True\n",
    "    if np.all(np.fliplr(board).diagonal() == player):\n",
    "        return True\n",
    "    return False\n",
    "    \n",
    "def evaluate(board):    \n",
    "    for player in [1,2]:\n",
    "        if row_win(board, player):\n",
    "            return player\n",
    "        if col_win(board, player):\n",
    "            return player\n",
    "        if diag_win(board, player):\n",
    "            return player\n",
    "    if np.all(board != 0):\n",
    "        return -1\n",
    "    else:\n",
    "        return 0\n",
    "    \n",
    "def play_game():\n",
    "    board = create_board()\n",
    "    \n",
    "    while True:\n",
    "        for player in [1,2]:\n",
    "            board = random_place(board, player)\n",
    "            result = evaluate(board)\n",
    "            if result in [-1, 1, 2]:\n",
    "                print(board)\n",
    "                return result\n",
    "play_game()"
   ]
  },
  {
   "cell_type": "markdown",
   "metadata": {
    "collapsed": true
   },
   "source": [
    "* **Exercise 11**\n",
    "\n",
    "Use the play_game() function to play 1,000 random games, where Player 1 always goes first.\n",
    "\n",
    "When doing this, import and use the time library to call the time function both before and after playing all 1,000 games in order to evaluate how long this takes per game. Print your answer.\n",
    "\n",
    "Use plt.hist and plt.show to plot a histogram of the results. Does Player 1 win more than Player 2? Does either player win more than each player draws?"
   ]
  },
  {
   "cell_type": "code",
   "execution_count": 107,
   "metadata": {
    "collapsed": false
   },
   "outputs": [
    {
     "name": "stdout",
     "output_type": "stream",
     "text": [
      "Time to play 1000 games 0.6947412490844727\n"
     ]
    },
    {
     "data": {
      "image/png": "[encoded data removed]",
      "text/plain": [
       "<matplotlib.figure.Figure at 0x26ba6f0cd68>"
      ]
     },
     "metadata": {},
     "output_type": "display_data"
    }
   ],
   "source": [
    "import time\n",
    "import numpy as np\n",
    "import matplotlib.pyplot as plt\n",
    "\n",
    "def create_board():\n",
    "    return np.zeros((3,3))\n",
    "\n",
    "def place(board, player, position):\n",
    "    if board[position[0]][position[1]] == 0:\n",
    "        board[position[0]][position[1]] = player\n",
    "        \n",
    "def possibilities(board):\n",
    "    return np.where(board==0)\n",
    "\n",
    "def random_place(board, player):\n",
    "    pos = possibilities(board)\n",
    "    idx = np.random.choice(range(len(pos[0])))\n",
    "    board[pos[0][idx]][pos[1][idx]] = player\n",
    "    return board\n",
    "    \n",
    "def row_win(board, player):\n",
    "    row, col = board.shape\n",
    "    for i in range(row):\n",
    "        if( np.all(board[i,:] == player) ):\n",
    "            return True\n",
    "    return False\n",
    "\n",
    "def col_win(board, player):\n",
    "    row, col = board.shape\n",
    "    for i in range(col):\n",
    "        if( np.all(board[:,i] == player) ):\n",
    "            return True\n",
    "    return False\n",
    "\n",
    "def diag_win(board, player):\n",
    "    if np.all(board.diagonal() == player):\n",
    "        return True\n",
    "    if np.all(np.fliplr(board).diagonal() == player):\n",
    "        return True\n",
    "    return False\n",
    "    \n",
    "def evaluate(board):    \n",
    "    for player in [1,2]:\n",
    "        if row_win(board, player):\n",
    "            return player\n",
    "        if col_win(board, player):\n",
    "            return player\n",
    "        if diag_win(board, player):\n",
    "            return player\n",
    "    if np.all(board != 0):\n",
    "        return -1\n",
    "    else:\n",
    "        return 0\n",
    "    \n",
    "def play_game():\n",
    "    board = create_board()\n",
    "    \n",
    "    while True:\n",
    "        for player in [1,2]:\n",
    "            board = random_place(board, player)\n",
    "            result = evaluate(board)\n",
    "            if result in [-1, 1, 2]:\n",
    "                return result\n",
    "            \n",
    "winner = []\n",
    "\n",
    "start_time = time.time()\n",
    "for i in range(1000):\n",
    "    winner.append(play_game())    \n",
    "end_time = time.time()\n",
    "print(\"Time to play 1000 games\", end_time - start_time)\n",
    "plt.hist(winner)\n",
    "plt.show()"
   ]
  },
  {
   "cell_type": "markdown",
   "metadata": {},
   "source": [
    "* **Exercise 12**\n",
    "\n",
    "This result is expected --- when guessing at random, it's better to go first. \n",
    "\n",
    "Let's see if Player 1 can improve their strategy. Create a function play_strategic_game(), where Player 1 always starts with the middle square and otherwise both players place their markers randomly.\n",
    "\n",
    "Call play_strategic_game once."
   ]
  },
  {
   "cell_type": "code",
   "execution_count": 105,
   "metadata": {
    "collapsed": false
   },
   "outputs": [
    {
     "data": {
      "text/plain": [
       "2"
      ]
     },
     "execution_count": 105,
     "metadata": {},
     "output_type": "execute_result"
    }
   ],
   "source": [
    "import time\n",
    "import numpy as np\n",
    "import matplotlib.pyplot as plt\n",
    "\n",
    "def create_board():\n",
    "    return np.zeros((3,3))\n",
    "\n",
    "def place(board, player, position):\n",
    "    if board[position[0]][position[1]] == 0:\n",
    "        board[position[0]][position[1]] = player\n",
    "        \n",
    "def possibilities(board):\n",
    "    return np.where(board==0)\n",
    "\n",
    "def random_place(board, player):\n",
    "    pos = possibilities(board)\n",
    "    idx = np.random.choice(range(len(pos[0])))\n",
    "    board[pos[0][idx]][pos[1][idx]] = player\n",
    "    return board\n",
    "    \n",
    "def row_win(board, player):\n",
    "    row, col = board.shape\n",
    "    for i in range(row):\n",
    "        if( np.all(board[i,:] == player) ):\n",
    "            return True\n",
    "    return False\n",
    "\n",
    "def col_win(board, player):\n",
    "    row, col = board.shape\n",
    "    for i in range(col):\n",
    "        if( np.all(board[:,i] == player) ):\n",
    "            return True\n",
    "    return False\n",
    "\n",
    "def diag_win(board, player):\n",
    "    if np.all(board.diagonal() == player):\n",
    "        return True\n",
    "    if np.all(np.fliplr(board).diagonal() == player):\n",
    "        return True\n",
    "    return False\n",
    "    \n",
    "def evaluate(board):    \n",
    "    for player in [1,2]:\n",
    "        if row_win(board, player):\n",
    "            return player\n",
    "        if col_win(board, player):\n",
    "            return player\n",
    "        if diag_win(board, player):\n",
    "            return player\n",
    "    if np.all(board != 0):\n",
    "        return -1\n",
    "    else:\n",
    "        return 0\n",
    "\n",
    "def play_strategic_game():\n",
    "    board = create_board()\n",
    "    # Init the first step\n",
    "    board[1][1] = 1\n",
    "    random_place(board, 2)\n",
    "    \n",
    "    while True:\n",
    "        for player in [1,2]:\n",
    "            board = random_place(board, player)\n",
    "            result = evaluate(board)\n",
    "            if result in [-1, 1, 2]:\n",
    "                return result\n",
    "            \n",
    "play_strategic_game()"
   ]
  },
  {
   "cell_type": "markdown",
   "metadata": {},
   "source": [
    "* ** Exercise 13**\n",
    "\n",
    "Use the play_strategic_game() function to play 1,000 random games.\n",
    "\n",
    "Use the time libary to evaluate how long all these games takes.\n",
    "\n",
    "Use plt.hist and plt.show to plot your results. Did Player 1's performance improve? Does either player win more than each player draws?"
   ]
  },
  {
   "cell_type": "code",
   "execution_count": 110,
   "metadata": {
    "collapsed": false
   },
   "outputs": [
    {
     "name": "stdout",
     "output_type": "stream",
     "text": [
      "Time to play 1000 games 0.4947335720062256\n"
     ]
    },
    {
     "data": {
      "image/png": "[encoded data removed]",
      "text/plain": [
       "<matplotlib.figure.Figure at 0x26ba8af3b00>"
      ]
     },
     "metadata": {},
     "output_type": "display_data"
    }
   ],
   "source": [
    "import time\n",
    "import numpy as np\n",
    "import matplotlib.pyplot as plt\n",
    "\n",
    "def create_board():\n",
    "    return np.zeros((3,3))\n",
    "\n",
    "def place(board, player, position):\n",
    "    if board[position[0]][position[1]] == 0:\n",
    "        board[position[0]][position[1]] = player\n",
    "        \n",
    "def possibilities(board):\n",
    "    return np.where(board==0)\n",
    "\n",
    "def random_place(board, player):\n",
    "    pos = possibilities(board)\n",
    "    idx = np.random.choice(range(len(pos[0])))\n",
    "    board[pos[0][idx]][pos[1][idx]] = player\n",
    "    return board\n",
    "    \n",
    "def row_win(board, player):\n",
    "    row, col = board.shape\n",
    "    for i in range(row):\n",
    "        if( np.all(board[i,:] == player) ):\n",
    "            return True\n",
    "    return False\n",
    "\n",
    "def col_win(board, player):\n",
    "    row, col = board.shape\n",
    "    for i in range(col):\n",
    "        if( np.all(board[:,i] == player) ):\n",
    "            return True\n",
    "    return False\n",
    "\n",
    "def diag_win(board, player):\n",
    "    if np.all(board.diagonal() == player):\n",
    "        return True\n",
    "    if np.all(np.fliplr(board).diagonal() == player):\n",
    "        return True\n",
    "    return False\n",
    "    \n",
    "def evaluate(board):    \n",
    "    for player in [1,2]:\n",
    "        if row_win(board, player):\n",
    "            return player\n",
    "        if col_win(board, player):\n",
    "            return player\n",
    "        if diag_win(board, player):\n",
    "            return player\n",
    "    if np.all(board != 0):\n",
    "        return -1\n",
    "    else:\n",
    "        return 0\n",
    "\n",
    "def play_strategic_game():\n",
    "    board = create_board()\n",
    "    # Init the first step\n",
    "    board[1][1] = 1\n",
    "    random_place(board, 2)\n",
    "    \n",
    "    while True:\n",
    "        for player in [1,2]:\n",
    "            board = random_place(board, player)\n",
    "            result = evaluate(board)\n",
    "            if result in [-1, 1, 2]:\n",
    "                return result\n",
    "\n",
    "def play_game():\n",
    "    board = create_board()\n",
    "    \n",
    "    while True:\n",
    "        for player in [1,2]:\n",
    "            board = random_place(board, player)\n",
    "            result = evaluate(board)\n",
    "            if result in [-1, 1, 2]:\n",
    "                return result\n",
    "                      \n",
    "winner = []\n",
    "start_time = time.time()\n",
    "for i in range(1000):\n",
    "    winner.append(play_strategic_game())    \n",
    "end_time = time.time()\n",
    "print(\"Time to play 1000 games\", end_time - start_time)\n",
    "plt.hist(winner)\n",
    "plt.show()"
   ]
  }
 ],
 "metadata": {
  "anaconda-cloud": {},
  "kernelspec": {
   "display_name": "Python [conda root]",
   "language": "python",
   "name": "conda-root-py"
  },
  "language_info": {
   "codemirror_mode": {
    "name": "ipython",
    "version": 3
   },
   "file_extension": ".py",
   "mimetype": "text/x-python",
   "name": "python",
   "nbconvert_exporter": "python",
   "pygments_lexer": "ipython3",
   "version": "3.5.2"
  }
 },
 "nbformat": 4,
 "nbformat_minor": 1
}
